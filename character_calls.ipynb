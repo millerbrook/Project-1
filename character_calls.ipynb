{
 "metadata": {
  "language_info": {
   "codemirror_mode": {
    "name": "ipython",
    "version": 3
   },
   "file_extension": ".py",
   "mimetype": "text/x-python",
   "name": "python",
   "nbconvert_exporter": "python",
   "pygments_lexer": "ipython3",
   "version": "3.8.5-final"
  },
  "orig_nbformat": 2,
  "kernelspec": {
   "name": "python3",
   "display_name": "Python 3",
   "language": "python"
  }
 },
 "nbformat": 4,
 "nbformat_minor": 2,
 "cells": [
  {
   "cell_type": "code",
   "execution_count": 6,
   "metadata": {},
   "outputs": [
    {
     "output_type": "stream",
     "name": "stdout",
     "text": [
      "7\n1493\n"
     ]
    },
    {
     "output_type": "execute_result",
     "data": {
      "text/plain": [
       "74"
      ]
     },
     "metadata": {},
     "execution_count": 6
    }
   ],
   "source": [
    "#Import Dependencies\n",
    "\n",
    "import requests\n",
    "import pandas as pd\n",
    "from config import pub_key\n",
    "from config import hash_key\n",
    "import json\n",
    "\n",
    "url = 'http://gateway.marvel.com/v1/public/characters'\n",
    "\n",
    "response = requests.get(f\"{url}?ts=1&apikey={pub_key}&hash={hash_key}\").json()\n",
    "total = response['data']['total']\n",
    "print(len(response))\n",
    "print(total)\n",
    "char_list = []\n",
    "char_id = []\n",
    "calls=int(total/100)\n",
    "calls"
   ]
  },
  {
   "cell_type": "code",
   "execution_count": 7,
   "metadata": {},
   "outputs": [],
   "source": [
    "for i in range(calls):\n",
    "    if (i % 100 == 0):\n",
    "        j=i*100\n",
    "        response = requests.get(f\"{url}?ts=1&apikey={pub_key}&hash={hash_key}&limit=100&offset={j}\").json()\n",
    "    for char in response['data']['results']:\n",
    "        char_list.append(char[\"name\"])\n",
    "        char_id.append(char[\"id\"]) "
   ]
  },
  {
   "cell_type": "code",
   "execution_count": 8,
   "metadata": {},
   "outputs": [],
   "source": [
    "char_df = pd.DataFrame({'Character':char_list, \"ID\": char_id})"
   ]
  },
  {
   "cell_type": "code",
   "execution_count": 9,
   "metadata": {},
   "outputs": [],
   "source": [
    "char_df.to_csv(\"characters.csv\", encoding = 'utf-8', index = False)"
   ]
  },
  {
   "cell_type": "code",
   "execution_count": 10,
   "metadata": {},
   "outputs": [
    {
     "output_type": "execute_result",
     "data": {
      "text/plain": [
       "                       Character       ID\n",
       "0                        3-D Man  1011334\n",
       "1                   A-Bomb (HAS)  1017100\n",
       "2                         A.I.M.  1009144\n",
       "3                    Aaron Stack  1010699\n",
       "4     Abomination (Emil Blonsky)  1009146\n",
       "...                          ...      ...\n",
       "1475                      Aurora  1009163\n",
       "1476                   Avalanche  1009164\n",
       "1477                    Avengers  1009165\n",
       "1478         Avengers (Ultimate)  1015239\n",
       "1479             Azazel (Mutant)  1011766\n",
       "\n",
       "[1480 rows x 2 columns]"
      ],
      "text/html": "<div>\n<style scoped>\n    .dataframe tbody tr th:only-of-type {\n        vertical-align: middle;\n    }\n\n    .dataframe tbody tr th {\n        vertical-align: top;\n    }\n\n    .dataframe thead th {\n        text-align: right;\n    }\n</style>\n<table border=\"1\" class=\"dataframe\">\n  <thead>\n    <tr style=\"text-align: right;\">\n      <th></th>\n      <th>Character</th>\n      <th>ID</th>\n    </tr>\n  </thead>\n  <tbody>\n    <tr>\n      <th>0</th>\n      <td>3-D Man</td>\n      <td>1011334</td>\n    </tr>\n    <tr>\n      <th>1</th>\n      <td>A-Bomb (HAS)</td>\n      <td>1017100</td>\n    </tr>\n    <tr>\n      <th>2</th>\n      <td>A.I.M.</td>\n      <td>1009144</td>\n    </tr>\n    <tr>\n      <th>3</th>\n      <td>Aaron Stack</td>\n      <td>1010699</td>\n    </tr>\n    <tr>\n      <th>4</th>\n      <td>Abomination (Emil Blonsky)</td>\n      <td>1009146</td>\n    </tr>\n    <tr>\n      <th>...</th>\n      <td>...</td>\n      <td>...</td>\n    </tr>\n    <tr>\n      <th>1475</th>\n      <td>Aurora</td>\n      <td>1009163</td>\n    </tr>\n    <tr>\n      <th>1476</th>\n      <td>Avalanche</td>\n      <td>1009164</td>\n    </tr>\n    <tr>\n      <th>1477</th>\n      <td>Avengers</td>\n      <td>1009165</td>\n    </tr>\n    <tr>\n      <th>1478</th>\n      <td>Avengers (Ultimate)</td>\n      <td>1015239</td>\n    </tr>\n    <tr>\n      <th>1479</th>\n      <td>Azazel (Mutant)</td>\n      <td>1011766</td>\n    </tr>\n  </tbody>\n</table>\n<p>1480 rows × 2 columns</p>\n</div>"
     },
     "metadata": {},
     "execution_count": 10
    }
   ],
   "source": [
    "char_df"
   ]
  },
  {
   "cell_type": "code",
   "execution_count": null,
   "metadata": {},
   "outputs": [],
   "source": []
  }
 ]
}