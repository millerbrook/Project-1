{
 "metadata": {
  "language_info": {
   "codemirror_mode": {
    "name": "ipython",
    "version": 3
   },
   "file_extension": ".py",
   "mimetype": "text/x-python",
   "name": "python",
   "nbconvert_exporter": "python",
   "pygments_lexer": "ipython3",
   "version": "3.8.5-final"
  },
  "orig_nbformat": 2,
  "kernelspec": {
   "name": "python3",
   "display_name": "Python 3",
   "language": "python"
  }
 },
 "nbformat": 4,
 "nbformat_minor": 2,
 "cells": [
  {
   "cell_type": "code",
   "execution_count": 12,
   "metadata": {},
   "outputs": [
    {
     "output_type": "error",
     "ename": "KeyError",
     "evalue": "'data'",
     "traceback": [
      "\u001b[1;31m---------------------------------------------------------------------------\u001b[0m",
      "\u001b[1;31mKeyError\u001b[0m                                  Traceback (most recent call last)",
      "\u001b[1;32m<ipython-input-12-cee9cff6ead3>\u001b[0m in \u001b[0;36m<module>\u001b[1;34m\u001b[0m\n\u001b[0;32m      8\u001b[0m \u001b[1;33m\u001b[0m\u001b[0m\n\u001b[0;32m      9\u001b[0m \u001b[0mresponse\u001b[0m \u001b[1;33m=\u001b[0m \u001b[0mrequests\u001b[0m\u001b[1;33m.\u001b[0m\u001b[0mget\u001b[0m\u001b[1;33m(\u001b[0m\u001b[1;34mf\"{url}?ts=1&apikey={pub_key}&hash={hash_key}&limit=100\"\u001b[0m\u001b[1;33m)\u001b[0m\u001b[1;33m.\u001b[0m\u001b[0mjson\u001b[0m\u001b[1;33m(\u001b[0m\u001b[1;33m)\u001b[0m\u001b[1;33m\u001b[0m\u001b[1;33m\u001b[0m\u001b[0m\n\u001b[1;32m---> 10\u001b[1;33m \u001b[0mtotal\u001b[0m \u001b[1;33m=\u001b[0m \u001b[0mresponse\u001b[0m\u001b[1;33m[\u001b[0m\u001b[1;34m'data'\u001b[0m\u001b[1;33m]\u001b[0m\u001b[1;33m[\u001b[0m\u001b[1;34m'total'\u001b[0m\u001b[1;33m]\u001b[0m\u001b[1;33m\u001b[0m\u001b[1;33m\u001b[0m\u001b[0m\n\u001b[0m\u001b[0;32m     11\u001b[0m \u001b[0mprint\u001b[0m\u001b[1;33m(\u001b[0m\u001b[0mlen\u001b[0m\u001b[1;33m(\u001b[0m\u001b[0mresponse\u001b[0m\u001b[1;33m)\u001b[0m\u001b[1;33m)\u001b[0m\u001b[1;33m\u001b[0m\u001b[1;33m\u001b[0m\u001b[0m\n\u001b[0;32m     12\u001b[0m \u001b[0mprint\u001b[0m\u001b[1;33m(\u001b[0m\u001b[0mtotal\u001b[0m\u001b[1;33m)\u001b[0m\u001b[1;33m\u001b[0m\u001b[1;33m\u001b[0m\u001b[0m\n",
      "\u001b[1;31mKeyError\u001b[0m: 'data'"
     ]
    }
   ],
   "source": [
    "import requests\n",
    "import pandas as pd\n",
    "from config import pub_key\n",
    "from config import hash_key\n",
    "import json\n",
    "\n",
    "url = 'http://gateway.marvel.com/v1/public/comics'\n",
    "\n",
    "#finds total number\n",
    "response = requests.get(f\"{url}?ts=1&apikey={pub_key}&hash={hash_key}&limit=100\").json()\n",
    "total = response['data']['total']\n",
    "print(len(response))\n",
    "print(total)\n",
    "comic_id_series = pd.Series()\n",
    "comic_title_series = pd.Series()\n",
    "comic_date_series = pd.Series()\n",
    "comic_creators = pd.Series()\n",
    "comic_creators_series = pd.Series()\n",
    "comic_chars = pd.Series()\n",
    "comic_characters_series = pd.Series()\n",
    "calls=int(total/100)\n",
    "calls= calls+1\n"
   ]
  },
  {
   "cell_type": "code",
   "execution_count": 10,
   "metadata": {},
   "outputs": [],
   "source": [
    "#get request -- 1 creator, 1 char per line\n",
    "for i in range(5):\n",
    "        try: #requires id, title, and date to do other operations\n",
    "            response = requests.get(f\"{url}?ts=1&apikey={pub_key}&hash={hash_key}&limit=1&offset={i}\").json()\n",
    "            comic = response['data']['results']\n",
    "            comic_id = comic['id']\n",
    "            comic_title = comic['title']\n",
    "            comic_date = comic['dates'][-1]['date'] \n",
    "            try: #try looping through creators, and nested looping through characters\n",
    "                for j in comic['creators']['items']:\n",
    "                    comic_creator = j['name']\n",
    "                    try: #adds new row for each character that includes current creator\n",
    "                        for k in comic['characters']['items']:\n",
    "                            comic_char = k['name']\n",
    "                            comic_id_series.append(comic_id)\n",
    "                            comic_title_series.append(comic_title)\n",
    "                            comic_date_series.append(comic_date)\n",
    "                            comic_creators_series.append(comic_creator)\n",
    "                            comic_characters_series.append(comic_char)\n",
    "                    except:\n",
    "                        pass\n",
    "            except: #if no creators, try looping through characters\n",
    "                try:\n",
    "                    for k in comic['characters']['items']: #note, no creator added here\n",
    "                            comic_char = k['name']\n",
    "                            comic_id_series.append(comic_id)\n",
    "                            comic_title_series.append(comic_title)\n",
    "                            comic_creators_series.append(\"\") #adds blank becuase there's no creator\n",
    "                            comic_date_series.append(comic_date)\n",
    "                            comic_characters_series.append(comic_char)\n",
    "                except:\n",
    "                    pass\n",
    "        except:\n",
    "            pass\n"
   ]
  },
  {
   "cell_type": "code",
   "execution_count": 11,
   "metadata": {},
   "outputs": [
    {
     "output_type": "execute_result",
     "data": {
      "text/plain": [
       "Empty DataFrame\n",
       "Columns: [ID, Title, Date]\n",
       "Index: []"
      ],
      "text/html": "<div>\n<style scoped>\n    .dataframe tbody tr th:only-of-type {\n        vertical-align: middle;\n    }\n\n    .dataframe tbody tr th {\n        vertical-align: top;\n    }\n\n    .dataframe thead th {\n        text-align: right;\n    }\n</style>\n<table border=\"1\" class=\"dataframe\">\n  <thead>\n    <tr style=\"text-align: right;\">\n      <th></th>\n      <th>ID</th>\n      <th>Title</th>\n      <th>Date</th>\n    </tr>\n  </thead>\n  <tbody>\n  </tbody>\n</table>\n</div>"
     },
     "metadata": {},
     "execution_count": 11
    }
   ],
   "source": [
    "column_names = [\"ID\", \"Title\", 'Date', 'Creator', 'Character']\n",
    "comics_df = pd.DataFrame(columns=column_names)\n",
    "comics_df['ID'] = comic_id_series\n",
    "comics_df['Title'] = comic_title_series\n",
    "comics_df['Date'] = comic_date_series\n",
    "comics_df['Creator'] = comic_creators_series\n",
    "comics_df['character'] = comic_characters_series\n",
    "comics_df.head()"
   ]
  },
  {
   "cell_type": "code",
   "execution_count": null,
   "metadata": {},
   "outputs": [],
   "source": []
  }
 ]
}