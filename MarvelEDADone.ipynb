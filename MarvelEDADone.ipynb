{
 "cells": [
  {
   "cell_type": "code",
   "execution_count": null,
   "metadata": {},
   "outputs": [],
   "source": [
    "#Captain America: First Avenger \n",
    "#Dependencies\n",
    "import json\n",
    "import requests\n",
    "\n",
    "# Specify the URL\n",
    "url = \"http://www.omdbapi.com/?t=Captain+America+&y=2011&apike+y=b090181b\"\n",
    "\n",
    "# Make request and store response\n",
    "response = requests.get(url)\n",
    "\n",
    "http://www.omdbapi.com/?t=Captain+America+&y=2011&apike+y=b090181b"
   ]
  },
  {
   "cell_type": "code",
   "execution_count": null,
   "metadata": {},
   "outputs": [],
   "source": [
    "# JSON-ify response\n",
    "response_json = response.json()"
   ]
  },
  {
   "cell_type": "code",
   "execution_count": null,
   "metadata": {},
   "outputs": [],
   "source": [
    "# Print first and last articles\n",
    "print(f\"The first response is {json.dumps(response_json, indent=4)}.\")\n"
   ]
  },
  {
   "cell_type": "code",
   "execution_count": 17,
   "metadata": {},
   "outputs": [],
   "source": [
    "# Dependencies\n",
    "import json\n",
    "import requests\n",
    "\n",
    "# Specify the URL\n",
    "url = 'http://www.omdbapi.com/?t=Captain+Marvel&apikey=b090181b'\n",
    "\n",
    "# Make request and store response\n",
    "response = requests.get(url)\n",
    "\n"
   ]
  },
  {
   "cell_type": "code",
   "execution_count": 18,
   "metadata": {},
   "outputs": [],
   "source": [
    "# JSON-ify response\n",
    "response_json = response.json()"
   ]
  },
  {
   "cell_type": "code",
   "execution_count": 19,
   "metadata": {},
   "outputs": [
    {
     "name": "stdout",
     "output_type": "stream",
     "text": [
      "The first response is {\n",
      "    \"Title\": \"Captain Marvel\",\n",
      "    \"Year\": \"2019\",\n",
      "    \"Rated\": \"PG-13\",\n",
      "    \"Released\": \"08 Mar 2019\",\n",
      "    \"Runtime\": \"123 min\",\n",
      "    \"Genre\": \"Action, Adventure, Sci-Fi\",\n",
      "    \"Director\": \"Anna Boden, Ryan Fleck\",\n",
      "    \"Writer\": \"Anna Boden (screenplay by), Ryan Fleck (screenplay by), Geneva Robertson-Dworet (screenplay by), Nicole Perlman (story by), Meg LeFauve (story by), Anna Boden (story by), Ryan Fleck (story by), Geneva Robertson-Dworet (story by)\",\n",
      "    \"Actors\": \"Brie Larson, Samuel L. Jackson, Ben Mendelsohn, Jude Law\",\n",
      "    \"Plot\": \"Carol Danvers becomes one of the universe's most powerful heroes when Earth is caught in the middle of a galactic war between two alien races.\",\n",
      "    \"Language\": \"English\",\n",
      "    \"Country\": \"USA, Australia\",\n",
      "    \"Awards\": \"8 wins & 48 nominations.\",\n",
      "    \"Poster\": \"https://m.media-amazon.com/images/M/MV5BMTE0YWFmOTMtYTU2ZS00ZTIxLWE3OTEtYTNiYzBkZjViZThiXkEyXkFqcGdeQXVyODMzMzQ4OTI@._V1_SX300.jpg\",\n",
      "    \"Ratings\": [\n",
      "        {\n",
      "            \"Source\": \"Internet Movie Database\",\n",
      "            \"Value\": \"6.9/10\"\n",
      "        },\n",
      "        {\n",
      "            \"Source\": \"Rotten Tomatoes\",\n",
      "            \"Value\": \"79%\"\n",
      "        },\n",
      "        {\n",
      "            \"Source\": \"Metacritic\",\n",
      "            \"Value\": \"64/100\"\n",
      "        }\n",
      "    ],\n",
      "    \"Metascore\": \"64\",\n",
      "    \"imdbRating\": \"6.9\",\n",
      "    \"imdbVotes\": \"437,802\",\n",
      "    \"imdbID\": \"tt4154664\",\n",
      "    \"Type\": \"movie\",\n",
      "    \"DVD\": \"N/A\",\n",
      "    \"BoxOffice\": \"$426,829,839\",\n",
      "    \"Production\": \"Marvel Studios\",\n",
      "    \"Website\": \"N/A\",\n",
      "    \"Response\": \"True\"\n",
      "}.\n"
     ]
    }
   ],
   "source": [
    "# Print first and last articles\n",
    "print(f\"The first response is {json.dumps(response_json, indent=4)}.\")"
   ]
  },
  {
   "cell_type": "code",
   "execution_count": null,
   "metadata": {},
   "outputs": [],
   "source": []
  },
  {
   "cell_type": "code",
   "execution_count": 4,
   "metadata": {},
   "outputs": [],
   "source": [
    "#IronMan \n",
    "# Dependencies\n",
    "import json\n",
    "import requests\n",
    "\n",
    "# Specify the URL\n",
    "url = 'http://www.omdbapi.com/?t=Iron+Man+&apikey=b090181b'\n",
    "\n",
    "# Make request and store response\n",
    "response = requests.get(url)\n",
    "\n"
   ]
  },
  {
   "cell_type": "code",
   "execution_count": 5,
   "metadata": {},
   "outputs": [],
   "source": [
    "# JSON-ify response\n",
    "response_json = response.json()"
   ]
  },
  {
   "cell_type": "code",
   "execution_count": 6,
   "metadata": {},
   "outputs": [
    {
     "name": "stdout",
     "output_type": "stream",
     "text": [
      "The first response is {\n",
      "    \"Title\": \"Iron Man\",\n",
      "    \"Year\": \"2008\",\n",
      "    \"Rated\": \"PG-13\",\n",
      "    \"Released\": \"02 May 2008\",\n",
      "    \"Runtime\": \"126 min\",\n",
      "    \"Genre\": \"Action, Adventure, Sci-Fi\",\n",
      "    \"Director\": \"Jon Favreau\",\n",
      "    \"Writer\": \"Mark Fergus (screenplay), Hawk Ostby (screenplay), Art Marcum (screenplay), Matt Holloway (screenplay), Stan Lee (characters), Don Heck (characters), Larry Lieber (characters), Jack Kirby (characters)\",\n",
      "    \"Actors\": \"Robert Downey Jr., Terrence Howard, Jeff Bridges, Gwyneth Paltrow\",\n",
      "    \"Plot\": \"After being held captive in an Afghan cave, billionaire engineer Tony Stark creates a unique weaponized suit of armor to fight evil.\",\n",
      "    \"Language\": \"English, Persian, Urdu, Arabic, Kurdish, Hindi, Hungarian\",\n",
      "    \"Country\": \"USA, Canada\",\n",
      "    \"Awards\": \"Nominated for 2 Oscars. Another 22 wins & 70 nominations.\",\n",
      "    \"Poster\": \"https://m.media-amazon.com/images/M/MV5BMTczNTI2ODUwOF5BMl5BanBnXkFtZTcwMTU0NTIzMw@@._V1_SX300.jpg\",\n",
      "    \"Ratings\": [\n",
      "        {\n",
      "            \"Source\": \"Internet Movie Database\",\n",
      "            \"Value\": \"7.9/10\"\n",
      "        },\n",
      "        {\n",
      "            \"Source\": \"Rotten Tomatoes\",\n",
      "            \"Value\": \"94%\"\n",
      "        },\n",
      "        {\n",
      "            \"Source\": \"Metacritic\",\n",
      "            \"Value\": \"79/100\"\n",
      "        }\n",
      "    ],\n",
      "    \"Metascore\": \"79\",\n",
      "    \"imdbRating\": \"7.9\",\n",
      "    \"imdbVotes\": \"935,798\",\n",
      "    \"imdbID\": \"tt0371746\",\n",
      "    \"Type\": \"movie\",\n",
      "    \"DVD\": \"N/A\",\n",
      "    \"BoxOffice\": \"$319,034,126\",\n",
      "    \"Production\": \"Marvel Enterprises, Paramount\",\n",
      "    \"Website\": \"N/A\",\n",
      "    \"Response\": \"True\"\n",
      "}.\n"
     ]
    }
   ],
   "source": [
    "# Print first and last articles\n",
    "print(f\"The first response is {json.dumps(response_json, indent=4)}.\")"
   ]
  },
  {
   "cell_type": "code",
   "execution_count": null,
   "metadata": {},
   "outputs": [],
   "source": []
  },
  {
   "cell_type": "code",
   "execution_count": 29,
   "metadata": {},
   "outputs": [],
   "source": [
    "#IronMan 2\n",
    "# Dependencies\n",
    "import json\n",
    "import requests\n",
    "\n",
    "# Specify the URL\n",
    "url = 'http://www.omdbapi.com/?t=iron+man+2&apikey=b090181b'\n",
    "\n",
    "# Make request and store response\n",
    "response = requests.get(url)\n"
   ]
  },
  {
   "cell_type": "code",
   "execution_count": 30,
   "metadata": {},
   "outputs": [],
   "source": [
    "# JSON-ify response\n",
    "response_json = response.json()"
   ]
  },
  {
   "cell_type": "code",
   "execution_count": 31,
   "metadata": {},
   "outputs": [
    {
     "name": "stdout",
     "output_type": "stream",
     "text": [
      "The first response is {\n",
      "    \"Title\": \"Iron Man 2\",\n",
      "    \"Year\": \"2010\",\n",
      "    \"Rated\": \"PG-13\",\n",
      "    \"Released\": \"07 May 2010\",\n",
      "    \"Runtime\": \"124 min\",\n",
      "    \"Genre\": \"Action, Adventure, Sci-Fi\",\n",
      "    \"Director\": \"Jon Favreau\",\n",
      "    \"Writer\": \"Justin Theroux (screenplay), Stan Lee (Marvel comic book), Don Heck (Marvel comic book), Larry Lieber (Marvel comic book), Jack Kirby (Marvel comic book)\",\n",
      "    \"Actors\": \"Robert Downey Jr., Gwyneth Paltrow, Don Cheadle, Scarlett Johansson\",\n",
      "    \"Plot\": \"With the world now aware of his identity as Iron Man, Tony Stark must contend with both his declining health and a vengeful mad man with ties to his father's legacy.\",\n",
      "    \"Language\": \"English, French, Russian\",\n",
      "    \"Country\": \"USA\",\n",
      "    \"Awards\": \"Nominated for 1 Oscar. Another 7 wins & 43 nominations.\",\n",
      "    \"Poster\": \"https://m.media-amazon.com/images/M/MV5BMTM0MDgwNjMyMl5BMl5BanBnXkFtZTcwNTg3NzAzMw@@._V1_SX300.jpg\",\n",
      "    \"Ratings\": [\n",
      "        {\n",
      "            \"Source\": \"Internet Movie Database\",\n",
      "            \"Value\": \"7.0/10\"\n",
      "        },\n",
      "        {\n",
      "            \"Source\": \"Rotten Tomatoes\",\n",
      "            \"Value\": \"72%\"\n",
      "        },\n",
      "        {\n",
      "            \"Source\": \"Metacritic\",\n",
      "            \"Value\": \"57/100\"\n",
      "        }\n",
      "    ],\n",
      "    \"Metascore\": \"57\",\n",
      "    \"imdbRating\": \"7.0\",\n",
      "    \"imdbVotes\": \"720,739\",\n",
      "    \"imdbID\": \"tt1228705\",\n",
      "    \"Type\": \"movie\",\n",
      "    \"DVD\": \"N/A\",\n",
      "    \"BoxOffice\": \"$312,433,331\",\n",
      "    \"Production\": \"Marvel Studios\",\n",
      "    \"Website\": \"N/A\",\n",
      "    \"Response\": \"True\"\n",
      "}.\n"
     ]
    }
   ],
   "source": [
    "# Print first and last articles\n",
    "print(f\"The first response is {json.dumps(response_json, indent=4)}.\")"
   ]
  },
  {
   "cell_type": "code",
   "execution_count": null,
   "metadata": {},
   "outputs": [],
   "source": []
  },
  {
   "cell_type": "code",
   "execution_count": 32,
   "metadata": {},
   "outputs": [],
   "source": [
    "#The Incredible Hulk (2008)\n",
    "# Dependencies\n",
    "import json\n",
    "import requests\n",
    "\n",
    "# Specify the URL\n",
    "url = 'http://www.omdbapi.com/?t=the+incredible+hulk&apikey=b090181b'\n",
    "\n",
    "# Make request and store response\n",
    "response = requests.get(url)\n"
   ]
  },
  {
   "cell_type": "code",
   "execution_count": 33,
   "metadata": {},
   "outputs": [],
   "source": [
    "# JSON-ify response\n",
    "response_json = response.json()"
   ]
  },
  {
   "cell_type": "code",
   "execution_count": 34,
   "metadata": {},
   "outputs": [
    {
     "name": "stdout",
     "output_type": "stream",
     "text": [
      "The first response is {\n",
      "    \"Title\": \"The Incredible Hulk\",\n",
      "    \"Year\": \"2008\",\n",
      "    \"Rated\": \"PG-13\",\n",
      "    \"Released\": \"13 Jun 2008\",\n",
      "    \"Runtime\": \"112 min\",\n",
      "    \"Genre\": \"Action, Adventure, Sci-Fi\",\n",
      "    \"Director\": \"Louis Leterrier\",\n",
      "    \"Writer\": \"Zak Penn (screenplay), Zak Penn (screen story), Stan Lee (Marvel comic book), Jack Kirby (Marvel comic book)\",\n",
      "    \"Actors\": \"Edward Norton, Liv Tyler, Tim Roth, William Hurt\",\n",
      "    \"Plot\": \"Bruce Banner, a scientist on the run from the U.S. Government, must find a cure for the monster he turns into whenever he loses his temper.\",\n",
      "    \"Language\": \"English, Portuguese, Spanish\",\n",
      "    \"Country\": \"USA\",\n",
      "    \"Awards\": \"1 win & 10 nominations.\",\n",
      "    \"Poster\": \"https://m.media-amazon.com/images/M/MV5BMTUyNzk3MjA1OF5BMl5BanBnXkFtZTcwMTE1Njg2MQ@@._V1_SX300.jpg\",\n",
      "    \"Ratings\": [\n",
      "        {\n",
      "            \"Source\": \"Internet Movie Database\",\n",
      "            \"Value\": \"6.7/10\"\n",
      "        },\n",
      "        {\n",
      "            \"Source\": \"Rotten Tomatoes\",\n",
      "            \"Value\": \"67%\"\n",
      "        },\n",
      "        {\n",
      "            \"Source\": \"Metacritic\",\n",
      "            \"Value\": \"61/100\"\n",
      "        }\n",
      "    ],\n",
      "    \"Metascore\": \"61\",\n",
      "    \"imdbRating\": \"6.7\",\n",
      "    \"imdbVotes\": \"432,705\",\n",
      "    \"imdbID\": \"tt0800080\",\n",
      "    \"Type\": \"movie\",\n",
      "    \"DVD\": \"N/A\",\n",
      "    \"BoxOffice\": \"$134,806,913\",\n",
      "    \"Production\": \"Marvel Films, Valhalla Motion Pictures\",\n",
      "    \"Website\": \"N/A\",\n",
      "    \"Response\": \"True\"\n",
      "}.\n"
     ]
    }
   ],
   "source": [
    "# Print first and last articles\n",
    "print(f\"The first response is {json.dumps(response_json, indent=4)}.\")"
   ]
  },
  {
   "cell_type": "code",
   "execution_count": null,
   "metadata": {},
   "outputs": [],
   "source": []
  },
  {
   "cell_type": "code",
   "execution_count": 35,
   "metadata": {},
   "outputs": [],
   "source": [
    "#Thor\n",
    "# Dependencies\n",
    "import json\n",
    "import requests\n",
    "\n",
    "# Specify the URL\n",
    "url = 'http://www.omdbapi.com/?t=Thor&apikey=b090181b'\n",
    "\n",
    "# Make request and store response\n",
    "response = requests.get(url)\n"
   ]
  },
  {
   "cell_type": "code",
   "execution_count": 36,
   "metadata": {},
   "outputs": [],
   "source": [
    "# JSON-ify response\n",
    "response_json = response.json()"
   ]
  },
  {
   "cell_type": "code",
   "execution_count": 37,
   "metadata": {},
   "outputs": [
    {
     "name": "stdout",
     "output_type": "stream",
     "text": [
      "The first response is {\n",
      "    \"Title\": \"Thor\",\n",
      "    \"Year\": \"2011\",\n",
      "    \"Rated\": \"PG-13\",\n",
      "    \"Released\": \"06 May 2011\",\n",
      "    \"Runtime\": \"115 min\",\n",
      "    \"Genre\": \"Action, Adventure, Fantasy\",\n",
      "    \"Director\": \"Kenneth Branagh\",\n",
      "    \"Writer\": \"Ashley Miller (screenplay), Zack Stentz (screenplay), Don Payne (screenplay), J. Michael Straczynski (story), Mark Protosevich (story), Stan Lee (comic book), Larry Lieber (comic book), Jack Kirby (comic book)\",\n",
      "    \"Actors\": \"Chris Hemsworth, Natalie Portman, Tom Hiddleston, Anthony Hopkins\",\n",
      "    \"Plot\": \"The powerful but arrogant god Thor is cast out of Asgard to live amongst humans in Midgard (Earth), where he soon becomes one of their finest defenders.\",\n",
      "    \"Language\": \"English\",\n",
      "    \"Country\": \"USA\",\n",
      "    \"Awards\": \"5 wins & 30 nominations.\",\n",
      "    \"Poster\": \"https://m.media-amazon.com/images/M/MV5BOGE4NzU1YTAtNzA3Mi00ZTA2LTg2YmYtMDJmMThiMjlkYjg2XkEyXkFqcGdeQXVyNTgzMDMzMTg@._V1_SX300.jpg\",\n",
      "    \"Ratings\": [\n",
      "        {\n",
      "            \"Source\": \"Internet Movie Database\",\n",
      "            \"Value\": \"7.0/10\"\n",
      "        },\n",
      "        {\n",
      "            \"Source\": \"Rotten Tomatoes\",\n",
      "            \"Value\": \"77%\"\n",
      "        },\n",
      "        {\n",
      "            \"Source\": \"Metacritic\",\n",
      "            \"Value\": \"57/100\"\n",
      "        }\n",
      "    ],\n",
      "    \"Metascore\": \"57\",\n",
      "    \"imdbRating\": \"7.0\",\n",
      "    \"imdbVotes\": \"745,030\",\n",
      "    \"imdbID\": \"tt0800369\",\n",
      "    \"Type\": \"movie\",\n",
      "    \"DVD\": \"N/A\",\n",
      "    \"BoxOffice\": \"$181,030,624\",\n",
      "    \"Production\": \"Marvel Studios\",\n",
      "    \"Website\": \"N/A\",\n",
      "    \"Response\": \"True\"\n",
      "}.\n"
     ]
    }
   ],
   "source": [
    "# Print first and last articles\n",
    "print(f\"The first response is {json.dumps(response_json, indent=4)}.\")"
   ]
  },
  {
   "cell_type": "code",
   "execution_count": null,
   "metadata": {},
   "outputs": [],
   "source": []
  },
  {
   "cell_type": "code",
   "execution_count": null,
   "metadata": {},
   "outputs": [],
   "source": [
    "#Marvel's Avengers\n",
    "# Dependencies\n",
    "import json\n",
    "import requests\n",
    "\n",
    "# Specify the URL\n",
    "url = 'http://www.omdbapi.com/?t=avengersapikey=b090181b'\n",
    "\n",
    "# Make request and store response\n",
    "response = requests.get(url)\n"
   ]
  },
  {
   "cell_type": "code",
   "execution_count": null,
   "metadata": {},
   "outputs": [],
   "source": [
    "# JSON-ify response\n",
    "response_json = response.json()"
   ]
  },
  {
   "cell_type": "code",
   "execution_count": 40,
   "metadata": {},
   "outputs": [
    {
     "name": "stdout",
     "output_type": "stream",
     "text": [
      "The first response is {\n",
      "    \"Title\": \"Thor\",\n",
      "    \"Year\": \"2011\",\n",
      "    \"Rated\": \"PG-13\",\n",
      "    \"Released\": \"06 May 2011\",\n",
      "    \"Runtime\": \"115 min\",\n",
      "    \"Genre\": \"Action, Adventure, Fantasy\",\n",
      "    \"Director\": \"Kenneth Branagh\",\n",
      "    \"Writer\": \"Ashley Miller (screenplay), Zack Stentz (screenplay), Don Payne (screenplay), J. Michael Straczynski (story), Mark Protosevich (story), Stan Lee (comic book), Larry Lieber (comic book), Jack Kirby (comic book)\",\n",
      "    \"Actors\": \"Chris Hemsworth, Natalie Portman, Tom Hiddleston, Anthony Hopkins\",\n",
      "    \"Plot\": \"The powerful but arrogant god Thor is cast out of Asgard to live amongst humans in Midgard (Earth), where he soon becomes one of their finest defenders.\",\n",
      "    \"Language\": \"English\",\n",
      "    \"Country\": \"USA\",\n",
      "    \"Awards\": \"5 wins & 30 nominations.\",\n",
      "    \"Poster\": \"https://m.media-amazon.com/images/M/MV5BOGE4NzU1YTAtNzA3Mi00ZTA2LTg2YmYtMDJmMThiMjlkYjg2XkEyXkFqcGdeQXVyNTgzMDMzMTg@._V1_SX300.jpg\",\n",
      "    \"Ratings\": [\n",
      "        {\n",
      "            \"Source\": \"Internet Movie Database\",\n",
      "            \"Value\": \"7.0/10\"\n",
      "        },\n",
      "        {\n",
      "            \"Source\": \"Rotten Tomatoes\",\n",
      "            \"Value\": \"77%\"\n",
      "        },\n",
      "        {\n",
      "            \"Source\": \"Metacritic\",\n",
      "            \"Value\": \"57/100\"\n",
      "        }\n",
      "    ],\n",
      "    \"Metascore\": \"57\",\n",
      "    \"imdbRating\": \"7.0\",\n",
      "    \"imdbVotes\": \"745,030\",\n",
      "    \"imdbID\": \"tt0800369\",\n",
      "    \"Type\": \"movie\",\n",
      "    \"DVD\": \"N/A\",\n",
      "    \"BoxOffice\": \"$181,030,624\",\n",
      "    \"Production\": \"Marvel Studios\",\n",
      "    \"Website\": \"N/A\",\n",
      "    \"Response\": \"True\"\n",
      "}.\n"
     ]
    }
   ],
   "source": [
    "# Print first and last articles\n",
    "print(f\"The first response is {json.dumps(response_json, indent=4)}.\")"
   ]
  },
  {
   "cell_type": "code",
   "execution_count": null,
   "metadata": {},
   "outputs": [],
   "source": []
  },
  {
   "cell_type": "code",
   "execution_count": 44,
   "metadata": {},
   "outputs": [],
   "source": [
    "#Ironman 3 \n",
    "# Dependencies\n",
    "import json\n",
    "import requests\n",
    "\n",
    "# Specify the URL\n",
    "url = 'http://www.omdbapi.com/?t=Iron+man+3+&apikey=b090181b'\n",
    "\n",
    "# Make request and store response\n",
    "response = requests.get(url)"
   ]
  },
  {
   "cell_type": "code",
   "execution_count": 45,
   "metadata": {},
   "outputs": [],
   "source": [
    "# JSON-ify response\n",
    "response_json = response.json()"
   ]
  },
  {
   "cell_type": "code",
   "execution_count": 46,
   "metadata": {},
   "outputs": [
    {
     "name": "stdout",
     "output_type": "stream",
     "text": [
      "The first response is {\n",
      "    \"Title\": \"Iron Man 3\",\n",
      "    \"Year\": \"2013\",\n",
      "    \"Rated\": \"PG-13\",\n",
      "    \"Released\": \"03 May 2013\",\n",
      "    \"Runtime\": \"130 min\",\n",
      "    \"Genre\": \"Action, Adventure, Sci-Fi\",\n",
      "    \"Director\": \"Shane Black\",\n",
      "    \"Writer\": \"Drew Pearce (screenplay by), Shane Black (screenplay by), Stan Lee (based on the Marvel comic book by), Don Heck (based on the Marvel comic book by), Larry Lieber (based on the Marvel comic book by), Jack Kirby (based on the Marvel comic book by), Warren Ellis (based on the \\\"Extremis\\\" mini-series written by), Adi Granov (based on the \\\"Extremis\\\" mini-series illustrated by)\",\n",
      "    \"Actors\": \"Robert Downey Jr., Gwyneth Paltrow, Don Cheadle, Guy Pearce\",\n",
      "    \"Plot\": \"When Tony Stark's world is torn apart by a formidable terrorist called the Mandarin, he starts an odyssey of rebuilding and retribution.\",\n",
      "    \"Language\": \"English\",\n",
      "    \"Country\": \"USA\",\n",
      "    \"Awards\": \"Nominated for 1 Oscar. Another 20 wins & 62 nominations.\",\n",
      "    \"Poster\": \"https://m.media-amazon.com/images/M/MV5BMjE5MzcyNjk1M15BMl5BanBnXkFtZTcwMjQ4MjcxOQ@@._V1_SX300.jpg\",\n",
      "    \"Ratings\": [\n",
      "        {\n",
      "            \"Source\": \"Internet Movie Database\",\n",
      "            \"Value\": \"7.1/10\"\n",
      "        },\n",
      "        {\n",
      "            \"Source\": \"Rotten Tomatoes\",\n",
      "            \"Value\": \"79%\"\n",
      "        },\n",
      "        {\n",
      "            \"Source\": \"Metacritic\",\n",
      "            \"Value\": \"62/100\"\n",
      "        }\n",
      "    ],\n",
      "    \"Metascore\": \"62\",\n",
      "    \"imdbRating\": \"7.1\",\n",
      "    \"imdbVotes\": \"753,038\",\n",
      "    \"imdbID\": \"tt1300854\",\n",
      "    \"Type\": \"movie\",\n",
      "    \"DVD\": \"N/A\",\n",
      "    \"BoxOffice\": \"$409,013,994\",\n",
      "    \"Production\": \"Marvel Studios\",\n",
      "    \"Website\": \"N/A\",\n",
      "    \"Response\": \"True\"\n",
      "}.\n"
     ]
    }
   ],
   "source": [
    "# Print first and last articles\n",
    "print(f\"The first response is {json.dumps(response_json, indent=4)}.\")"
   ]
  },
  {
   "cell_type": "code",
   "execution_count": null,
   "metadata": {},
   "outputs": [],
   "source": []
  },
  {
   "cell_type": "code",
   "execution_count": 48,
   "metadata": {},
   "outputs": [],
   "source": [
    "#Thor The Dark World\n",
    "#Dependencies\n",
    "import json\n",
    "import requests\n",
    "\n",
    "# Specify the URL\n",
    "url = 'http://www.omdbapi.com/?t=Thor+the+dark+world&apikey=b090181b'\n",
    "\n",
    "# Make request and store response\n",
    "response = requests.get(url)"
   ]
  },
  {
   "cell_type": "code",
   "execution_count": 49,
   "metadata": {},
   "outputs": [],
   "source": [
    "# JSON-ify response\n",
    "response_json = response.json()"
   ]
  },
  {
   "cell_type": "code",
   "execution_count": 50,
   "metadata": {},
   "outputs": [
    {
     "name": "stdout",
     "output_type": "stream",
     "text": [
      "The first response is {\n",
      "    \"Title\": \"Thor: The Dark World\",\n",
      "    \"Year\": \"2013\",\n",
      "    \"Rated\": \"PG-13\",\n",
      "    \"Released\": \"08 Nov 2013\",\n",
      "    \"Runtime\": \"112 min\",\n",
      "    \"Genre\": \"Action, Adventure, Fantasy\",\n",
      "    \"Director\": \"Alan Taylor\",\n",
      "    \"Writer\": \"Christopher L. Yost (screenplay by), Christopher Markus (screenplay by), Stephen McFeely (screenplay by), Don Payne (story by), Robert Rodat (story by), Stan Lee (based on the Marvel comics by), Larry Lieber (based on the Marvel comics by), Jack Kirby (based on the Marvel comics by), Walter Simonson (character created by: Malekith)\",\n",
      "    \"Actors\": \"Chris Hemsworth, Natalie Portman, Tom Hiddleston, Anthony Hopkins\",\n",
      "    \"Plot\": \"When the Dark Elves attempt to plunge the universe into darkness, Thor must embark on a perilous and personal journey that will reunite him with doctor Jane Foster.\",\n",
      "    \"Language\": \"English\",\n",
      "    \"Country\": \"USA\",\n",
      "    \"Awards\": \"3 wins & 21 nominations.\",\n",
      "    \"Poster\": \"https://m.media-amazon.com/images/M/MV5BMTQyNzAwOTUxOF5BMl5BanBnXkFtZTcwMTE0OTc5OQ@@._V1_SX300.jpg\",\n",
      "    \"Ratings\": [\n",
      "        {\n",
      "            \"Source\": \"Internet Movie Database\",\n",
      "            \"Value\": \"6.9/10\"\n",
      "        },\n",
      "        {\n",
      "            \"Source\": \"Rotten Tomatoes\",\n",
      "            \"Value\": \"66%\"\n",
      "        },\n",
      "        {\n",
      "            \"Source\": \"Metacritic\",\n",
      "            \"Value\": \"54/100\"\n",
      "        }\n",
      "    ],\n",
      "    \"Metascore\": \"54\",\n",
      "    \"imdbRating\": \"6.9\",\n",
      "    \"imdbVotes\": \"594,362\",\n",
      "    \"imdbID\": \"tt1981115\",\n",
      "    \"Type\": \"movie\",\n",
      "    \"DVD\": \"N/A\",\n",
      "    \"BoxOffice\": \"$206,362,140\",\n",
      "    \"Production\": \"Marvel Studios\",\n",
      "    \"Website\": \"N/A\",\n",
      "    \"Response\": \"True\"\n",
      "}.\n"
     ]
    }
   ],
   "source": [
    "# Print first and last articles\n",
    "print(f\"The first response is {json.dumps(response_json, indent=4)}.\")"
   ]
  },
  {
   "cell_type": "code",
   "execution_count": null,
   "metadata": {},
   "outputs": [],
   "source": []
  },
  {
   "cell_type": "code",
   "execution_count": 51,
   "metadata": {},
   "outputs": [],
   "source": [
    "#Captain America: Winter Soldier \n",
    "#Dependencies\n",
    "import json\n",
    "import requests\n",
    "\n",
    "# Specify the URL\n",
    "url = 'http://www.omdbapi.com/?t=Thor+the+dark+world&apikey=b090181b'\n",
    "\n",
    "# Make request and store response\n",
    "response = requests.get(url)"
   ]
  },
  {
   "cell_type": "code",
   "execution_count": 52,
   "metadata": {},
   "outputs": [],
   "source": [
    "# JSON-ify response\n",
    "response_json = response.json()"
   ]
  },
  {
   "cell_type": "code",
   "execution_count": 53,
   "metadata": {},
   "outputs": [
    {
     "name": "stdout",
     "output_type": "stream",
     "text": [
      "The first response is {\n",
      "    \"Title\": \"Thor: The Dark World\",\n",
      "    \"Year\": \"2013\",\n",
      "    \"Rated\": \"PG-13\",\n",
      "    \"Released\": \"08 Nov 2013\",\n",
      "    \"Runtime\": \"112 min\",\n",
      "    \"Genre\": \"Action, Adventure, Fantasy\",\n",
      "    \"Director\": \"Alan Taylor\",\n",
      "    \"Writer\": \"Christopher L. Yost (screenplay by), Christopher Markus (screenplay by), Stephen McFeely (screenplay by), Don Payne (story by), Robert Rodat (story by), Stan Lee (based on the Marvel comics by), Larry Lieber (based on the Marvel comics by), Jack Kirby (based on the Marvel comics by), Walter Simonson (character created by: Malekith)\",\n",
      "    \"Actors\": \"Chris Hemsworth, Natalie Portman, Tom Hiddleston, Anthony Hopkins\",\n",
      "    \"Plot\": \"When the Dark Elves attempt to plunge the universe into darkness, Thor must embark on a perilous and personal journey that will reunite him with doctor Jane Foster.\",\n",
      "    \"Language\": \"English\",\n",
      "    \"Country\": \"USA\",\n",
      "    \"Awards\": \"3 wins & 21 nominations.\",\n",
      "    \"Poster\": \"https://m.media-amazon.com/images/M/MV5BMTQyNzAwOTUxOF5BMl5BanBnXkFtZTcwMTE0OTc5OQ@@._V1_SX300.jpg\",\n",
      "    \"Ratings\": [\n",
      "        {\n",
      "            \"Source\": \"Internet Movie Database\",\n",
      "            \"Value\": \"6.9/10\"\n",
      "        },\n",
      "        {\n",
      "            \"Source\": \"Rotten Tomatoes\",\n",
      "            \"Value\": \"66%\"\n",
      "        },\n",
      "        {\n",
      "            \"Source\": \"Metacritic\",\n",
      "            \"Value\": \"54/100\"\n",
      "        }\n",
      "    ],\n",
      "    \"Metascore\": \"54\",\n",
      "    \"imdbRating\": \"6.9\",\n",
      "    \"imdbVotes\": \"594,362\",\n",
      "    \"imdbID\": \"tt1981115\",\n",
      "    \"Type\": \"movie\",\n",
      "    \"DVD\": \"N/A\",\n",
      "    \"BoxOffice\": \"$206,362,140\",\n",
      "    \"Production\": \"Marvel Studios\",\n",
      "    \"Website\": \"N/A\",\n",
      "    \"Response\": \"True\"\n",
      "}.\n"
     ]
    }
   ],
   "source": [
    "# Print first and last articles\n",
    "print(f\"The first response is {json.dumps(response_json, indent=4)}.\")"
   ]
  },
  {
   "cell_type": "code",
   "execution_count": null,
   "metadata": {},
   "outputs": [],
   "source": []
  },
  {
   "cell_type": "code",
   "execution_count": null,
   "metadata": {},
   "outputs": [],
   "source": [
    "#Guardian of the Galaxy\n",
    "#Dependencies\n",
    "import json\n",
    "import requests\n",
    "\n",
    "# Specify the URL\n",
    "url = 'http://www.omdbapi.com/?t=Thor+the+dark+world&apikey=b090181b'\n",
    "\n",
    "# Make request and store response\n",
    "response = requests.get(url)"
   ]
  },
  {
   "cell_type": "code",
   "execution_count": null,
   "metadata": {},
   "outputs": [],
   "source": [
    "# JSON-ify response\n",
    "response_json = response.json()"
   ]
  },
  {
   "cell_type": "code",
   "execution_count": 54,
   "metadata": {},
   "outputs": [
    {
     "name": "stdout",
     "output_type": "stream",
     "text": [
      "The first response is {\n",
      "    \"Title\": \"Thor: The Dark World\",\n",
      "    \"Year\": \"2013\",\n",
      "    \"Rated\": \"PG-13\",\n",
      "    \"Released\": \"08 Nov 2013\",\n",
      "    \"Runtime\": \"112 min\",\n",
      "    \"Genre\": \"Action, Adventure, Fantasy\",\n",
      "    \"Director\": \"Alan Taylor\",\n",
      "    \"Writer\": \"Christopher L. Yost (screenplay by), Christopher Markus (screenplay by), Stephen McFeely (screenplay by), Don Payne (story by), Robert Rodat (story by), Stan Lee (based on the Marvel comics by), Larry Lieber (based on the Marvel comics by), Jack Kirby (based on the Marvel comics by), Walter Simonson (character created by: Malekith)\",\n",
      "    \"Actors\": \"Chris Hemsworth, Natalie Portman, Tom Hiddleston, Anthony Hopkins\",\n",
      "    \"Plot\": \"When the Dark Elves attempt to plunge the universe into darkness, Thor must embark on a perilous and personal journey that will reunite him with doctor Jane Foster.\",\n",
      "    \"Language\": \"English\",\n",
      "    \"Country\": \"USA\",\n",
      "    \"Awards\": \"3 wins & 21 nominations.\",\n",
      "    \"Poster\": \"https://m.media-amazon.com/images/M/MV5BMTQyNzAwOTUxOF5BMl5BanBnXkFtZTcwMTE0OTc5OQ@@._V1_SX300.jpg\",\n",
      "    \"Ratings\": [\n",
      "        {\n",
      "            \"Source\": \"Internet Movie Database\",\n",
      "            \"Value\": \"6.9/10\"\n",
      "        },\n",
      "        {\n",
      "            \"Source\": \"Rotten Tomatoes\",\n",
      "            \"Value\": \"66%\"\n",
      "        },\n",
      "        {\n",
      "            \"Source\": \"Metacritic\",\n",
      "            \"Value\": \"54/100\"\n",
      "        }\n",
      "    ],\n",
      "    \"Metascore\": \"54\",\n",
      "    \"imdbRating\": \"6.9\",\n",
      "    \"imdbVotes\": \"594,362\",\n",
      "    \"imdbID\": \"tt1981115\",\n",
      "    \"Type\": \"movie\",\n",
      "    \"DVD\": \"N/A\",\n",
      "    \"BoxOffice\": \"$206,362,140\",\n",
      "    \"Production\": \"Marvel Studios\",\n",
      "    \"Website\": \"N/A\",\n",
      "    \"Response\": \"True\"\n",
      "}.\n"
     ]
    }
   ],
   "source": [
    "# Print first and last articles\n",
    "print(f\"The first response is {json.dumps(response_json, indent=4)}.\")"
   ]
  },
  {
   "cell_type": "code",
   "execution_count": null,
   "metadata": {},
   "outputs": [],
   "source": []
  },
  {
   "cell_type": "code",
   "execution_count": 55,
   "metadata": {},
   "outputs": [],
   "source": [
    "#Guardian of the Galaxy Vol.2\n",
    "#Dependencies\n",
    "import json\n",
    "import requests\n",
    "\n",
    "# Specify the URL\n",
    "url = 'http://www.omdbapi.com/?t=GUARDIANS+OF+THE+GALAXY+VOL+2&apikey=b090181b'\n",
    "\n",
    "# Make request and store response\n",
    "response = requests.get(url)"
   ]
  },
  {
   "cell_type": "code",
   "execution_count": 56,
   "metadata": {},
   "outputs": [],
   "source": [
    "# JSON-ify response\n",
    "response_json = response.json()"
   ]
  },
  {
   "cell_type": "code",
   "execution_count": 57,
   "metadata": {},
   "outputs": [
    {
     "name": "stdout",
     "output_type": "stream",
     "text": [
      "The first response is {\n",
      "    \"Title\": \"Guardians of the Galaxy Vol. 2\",\n",
      "    \"Year\": \"2017\",\n",
      "    \"Rated\": \"PG-13\",\n",
      "    \"Released\": \"05 May 2017\",\n",
      "    \"Runtime\": \"136 min\",\n",
      "    \"Genre\": \"Action, Adventure, Comedy, Sci-Fi\",\n",
      "    \"Director\": \"James Gunn\",\n",
      "    \"Writer\": \"James Gunn, Dan Abnett (based on the Marvel comics by), Andy Lanning (based on the Marvel comics by), Steve Englehart (Star-Lord created by), Steve Gan (Star-Lord created by), Jim Starlin (Gamora and Drax created by), Stan Lee (Groot created by), Larry Lieber (Groot created by), Jack Kirby (Groot created by), Bill Mantlo (Rocket Raccoon created by), Keith Giffen (Rocket Raccoon created by), Steve Gerber (Howard the Duck created by), Val Mayerik (Howard the Duck created by)\",\n",
      "    \"Actors\": \"Chris Pratt, Zoe Saldana, Dave Bautista, Vin Diesel\",\n",
      "    \"Plot\": \"The Guardians struggle to keep together as a team while dealing with their personal family issues, notably Star-Lord's encounter with his father the ambitious celestial being Ego.\",\n",
      "    \"Language\": \"English\",\n",
      "    \"Country\": \"USA\",\n",
      "    \"Awards\": \"Nominated for 1 Oscar. Another 15 wins & 57 nominations.\",\n",
      "    \"Poster\": \"https://m.media-amazon.com/images/M/MV5BNjM0NTc0NzItM2FlYS00YzEwLWE0YmUtNTA2ZWIzODc2OTgxXkEyXkFqcGdeQXVyNTgwNzIyNzg@._V1_SX300.jpg\",\n",
      "    \"Ratings\": [\n",
      "        {\n",
      "            \"Source\": \"Internet Movie Database\",\n",
      "            \"Value\": \"7.6/10\"\n",
      "        },\n",
      "        {\n",
      "            \"Source\": \"Rotten Tomatoes\",\n",
      "            \"Value\": \"85%\"\n",
      "        },\n",
      "        {\n",
      "            \"Source\": \"Metacritic\",\n",
      "            \"Value\": \"67/100\"\n",
      "        }\n",
      "    ],\n",
      "    \"Metascore\": \"67\",\n",
      "    \"imdbRating\": \"7.6\",\n",
      "    \"imdbVotes\": \"568,455\",\n",
      "    \"imdbID\": \"tt3896198\",\n",
      "    \"Type\": \"movie\",\n",
      "    \"DVD\": \"N/A\",\n",
      "    \"BoxOffice\": \"$389,813,101\",\n",
      "    \"Production\": \"Marvel Studios, Walt Disney Pictures\",\n",
      "    \"Website\": \"N/A\",\n",
      "    \"Response\": \"True\"\n",
      "}.\n"
     ]
    }
   ],
   "source": [
    "# Print first and last articles\n",
    "print(f\"The first response is {json.dumps(response_json, indent=4)}.\")"
   ]
  },
  {
   "cell_type": "code",
   "execution_count": null,
   "metadata": {},
   "outputs": [],
   "source": []
  },
  {
   "cell_type": "code",
   "execution_count": 58,
   "metadata": {},
   "outputs": [],
   "source": [
    "#Avengers Age of Ultron\n",
    "#Dependencies\n",
    "import json\n",
    "import requests\n",
    "\n",
    "# Specify the URL\n",
    "url = 'http://www.omdbapi.com/?t=Avengers+Age+of+Ultron&apikey=b090181b'\n",
    "\n",
    "# Make request and store response\n",
    "response = requests.get(url)"
   ]
  },
  {
   "cell_type": "code",
   "execution_count": 59,
   "metadata": {},
   "outputs": [],
   "source": [
    "# JSON-ify response\n",
    "response_json = response.json()"
   ]
  },
  {
   "cell_type": "code",
   "execution_count": 60,
   "metadata": {},
   "outputs": [
    {
     "name": "stdout",
     "output_type": "stream",
     "text": [
      "The first response is {\n",
      "    \"Title\": \"Avengers: Age of Ultron\",\n",
      "    \"Year\": \"2015\",\n",
      "    \"Rated\": \"PG-13\",\n",
      "    \"Released\": \"01 May 2015\",\n",
      "    \"Runtime\": \"141 min\",\n",
      "    \"Genre\": \"Action, Adventure, Sci-Fi\",\n",
      "    \"Director\": \"Joss Whedon\",\n",
      "    \"Writer\": \"Joss Whedon, Stan Lee (based on the Marvel comics by), Jack Kirby (based on the Marvel comics by), Joe Simon (character created by: Captain America), Jack Kirby (character created by: Captain America), Jim Starlin (character created by: Thanos)\",\n",
      "    \"Actors\": \"Robert Downey Jr., Chris Hemsworth, Mark Ruffalo, Chris Evans\",\n",
      "    \"Plot\": \"When Tony Stark and Bruce Banner try to jump-start a dormant peacekeeping program called Ultron, things go horribly wrong and it's up to Earth's mightiest heroes to stop the villainous Ultron from enacting his terrible plan.\",\n",
      "    \"Language\": \"English, Korean\",\n",
      "    \"Country\": \"USA\",\n",
      "    \"Awards\": \"8 wins & 49 nominations.\",\n",
      "    \"Poster\": \"https://m.media-amazon.com/images/M/MV5BMTM4OGJmNWMtOTM4Ni00NTE3LTg3MDItZmQxYjc4N2JhNmUxXkEyXkFqcGdeQXVyNTgzMDMzMTg@._V1_SX300.jpg\",\n",
      "    \"Ratings\": [\n",
      "        {\n",
      "            \"Source\": \"Internet Movie Database\",\n",
      "            \"Value\": \"7.3/10\"\n",
      "        },\n",
      "        {\n",
      "            \"Source\": \"Rotten Tomatoes\",\n",
      "            \"Value\": \"76%\"\n",
      "        },\n",
      "        {\n",
      "            \"Source\": \"Metacritic\",\n",
      "            \"Value\": \"66/100\"\n",
      "        }\n",
      "    ],\n",
      "    \"Metascore\": \"66\",\n",
      "    \"imdbRating\": \"7.3\",\n",
      "    \"imdbVotes\": \"740,541\",\n",
      "    \"imdbID\": \"tt2395427\",\n",
      "    \"Type\": \"movie\",\n",
      "    \"DVD\": \"N/A\",\n",
      "    \"BoxOffice\": \"$459,005,868\",\n",
      "    \"Production\": \"Marvel Studios\",\n",
      "    \"Website\": \"N/A\",\n",
      "    \"Response\": \"True\"\n",
      "}.\n"
     ]
    }
   ],
   "source": [
    "# Print first and last articles\n",
    "print(f\"The first response is {json.dumps(response_json, indent=4)}.\")"
   ]
  },
  {
   "cell_type": "code",
   "execution_count": null,
   "metadata": {},
   "outputs": [],
   "source": []
  },
  {
   "cell_type": "code",
   "execution_count": 61,
   "metadata": {},
   "outputs": [],
   "source": [
    "#ANT-MAN (2015)\n",
    "#Dependencies\n",
    "import json\n",
    "import requests\n",
    "\n",
    "# Specify the URL\n",
    "url = 'http://www.omdbapi.com/?t=ANT-MAN&apikey=b090181b'\n",
    "\n",
    "# Make request and store response\n",
    "response = requests.get(url)"
   ]
  },
  {
   "cell_type": "code",
   "execution_count": 62,
   "metadata": {},
   "outputs": [],
   "source": [
    "# JSON-ify response\n",
    "response_json = response.json()"
   ]
  },
  {
   "cell_type": "code",
   "execution_count": 63,
   "metadata": {},
   "outputs": [
    {
     "name": "stdout",
     "output_type": "stream",
     "text": [
      "The first response is {\n",
      "    \"Title\": \"Ant-Man\",\n",
      "    \"Year\": \"2015\",\n",
      "    \"Rated\": \"PG-13\",\n",
      "    \"Released\": \"17 Jul 2015\",\n",
      "    \"Runtime\": \"117 min\",\n",
      "    \"Genre\": \"Action, Adventure, Comedy, Sci-Fi\",\n",
      "    \"Director\": \"Peyton Reed\",\n",
      "    \"Writer\": \"Edgar Wright (screenplay by), Joe Cornish (screenplay by), Adam McKay (screenplay by), Paul Rudd (screenplay by), Edgar Wright (story by), Joe Cornish (story by), Stan Lee (based on the Marvel comics by), Larry Lieber (based on the Marvel comics by), Jack Kirby (based on the Marvel comics by)\",\n",
      "    \"Actors\": \"Paul Rudd, Michael Douglas, Evangeline Lilly, Corey Stoll\",\n",
      "    \"Plot\": \"Armed with a super-suit with the astonishing ability to shrink in scale but increase in strength, cat burglar Scott Lang must embrace his inner hero and help his mentor, Dr. Hank Pym, plan and pull off a heist that will save the world.\",\n",
      "    \"Language\": \"English\",\n",
      "    \"Country\": \"USA\",\n",
      "    \"Awards\": \"Nominated for 1 BAFTA Film Award. Another 4 wins & 33 nominations.\",\n",
      "    \"Poster\": \"https://m.media-amazon.com/images/M/MV5BMjM2NTQ5Mzc2M15BMl5BanBnXkFtZTgwNTcxMDI2NTE@._V1_SX300.jpg\",\n",
      "    \"Ratings\": [\n",
      "        {\n",
      "            \"Source\": \"Internet Movie Database\",\n",
      "            \"Value\": \"7.3/10\"\n",
      "        },\n",
      "        {\n",
      "            \"Source\": \"Rotten Tomatoes\",\n",
      "            \"Value\": \"82%\"\n",
      "        },\n",
      "        {\n",
      "            \"Source\": \"Metacritic\",\n",
      "            \"Value\": \"64/100\"\n",
      "        }\n",
      "    ],\n",
      "    \"Metascore\": \"64\",\n",
      "    \"imdbRating\": \"7.3\",\n",
      "    \"imdbVotes\": \"567,827\",\n",
      "    \"imdbID\": \"tt0478970\",\n",
      "    \"Type\": \"movie\",\n",
      "    \"DVD\": \"N/A\",\n",
      "    \"BoxOffice\": \"$180,202,163\",\n",
      "    \"Production\": \"Marvel Studios\",\n",
      "    \"Website\": \"N/A\",\n",
      "    \"Response\": \"True\"\n",
      "}.\n"
     ]
    }
   ],
   "source": [
    "# Print first and last articles\n",
    "print(f\"The first response is {json.dumps(response_json, indent=4)}.\")"
   ]
  },
  {
   "cell_type": "code",
   "execution_count": null,
   "metadata": {},
   "outputs": [],
   "source": []
  },
  {
   "cell_type": "code",
   "execution_count": 64,
   "metadata": {},
   "outputs": [],
   "source": [
    "#Captain America Civil War \n",
    "#Dependencies\n",
    "import json\n",
    "import requests\n",
    "\n",
    "# Specify the URL\n",
    "url = 'http://www.omdbapi.com/?t=CAPTAIN+AMERICA%3A+CIVIL+WAR+&apikey=b090181b'\n",
    "\n",
    "# Make request and store response\n",
    "response = requests.get(url)"
   ]
  },
  {
   "cell_type": "code",
   "execution_count": 65,
   "metadata": {},
   "outputs": [],
   "source": [
    "# JSON-ify response\n",
    "response_json = response.json()"
   ]
  },
  {
   "cell_type": "code",
   "execution_count": 66,
   "metadata": {},
   "outputs": [
    {
     "name": "stdout",
     "output_type": "stream",
     "text": [
      "The first response is {\n",
      "    \"Title\": \"Captain America: Civil War\",\n",
      "    \"Year\": \"2016\",\n",
      "    \"Rated\": \"PG-13\",\n",
      "    \"Released\": \"06 May 2016\",\n",
      "    \"Runtime\": \"147 min\",\n",
      "    \"Genre\": \"Action, Adventure, Sci-Fi\",\n",
      "    \"Director\": \"Anthony Russo, Joe Russo\",\n",
      "    \"Writer\": \"Christopher Markus (screenplay by), Stephen McFeely (screenplay by), Joe Simon (based on the Marvel comics by), Jack Kirby (based on the Marvel comics by)\",\n",
      "    \"Actors\": \"Chris Evans, Robert Downey Jr., Scarlett Johansson, Sebastian Stan\",\n",
      "    \"Plot\": \"Political involvement in the Avengers' affairs causes a rift between Captain America and Iron Man.\",\n",
      "    \"Language\": \"English, German, Xhosa, Russian, Romanian, Hindi\",\n",
      "    \"Country\": \"USA\",\n",
      "    \"Awards\": \"16 wins & 68 nominations.\",\n",
      "    \"Poster\": \"https://m.media-amazon.com/images/M/MV5BMjQ0MTgyNjAxMV5BMl5BanBnXkFtZTgwNjUzMDkyODE@._V1_SX300.jpg\",\n",
      "    \"Ratings\": [\n",
      "        {\n",
      "            \"Source\": \"Internet Movie Database\",\n",
      "            \"Value\": \"7.8/10\"\n",
      "        },\n",
      "        {\n",
      "            \"Source\": \"Rotten Tomatoes\",\n",
      "            \"Value\": \"90%\"\n",
      "        },\n",
      "        {\n",
      "            \"Source\": \"Metacritic\",\n",
      "            \"Value\": \"75/100\"\n",
      "        }\n",
      "    ],\n",
      "    \"Metascore\": \"75\",\n",
      "    \"imdbRating\": \"7.8\",\n",
      "    \"imdbVotes\": \"660,680\",\n",
      "    \"imdbID\": \"tt3498820\",\n",
      "    \"Type\": \"movie\",\n",
      "    \"DVD\": \"N/A\",\n",
      "    \"BoxOffice\": \"$408,084,349\",\n",
      "    \"Production\": \"Marvel Studios\",\n",
      "    \"Website\": \"N/A\",\n",
      "    \"Response\": \"True\"\n",
      "}.\n"
     ]
    }
   ],
   "source": [
    "# Print first and last articles\n",
    "print(f\"The first response is {json.dumps(response_json, indent=4)}.\")"
   ]
  },
  {
   "cell_type": "code",
   "execution_count": null,
   "metadata": {},
   "outputs": [],
   "source": []
  },
  {
   "cell_type": "code",
   "execution_count": 67,
   "metadata": {},
   "outputs": [],
   "source": [
    "#Spider-Man: Homecoming \n",
    "#Dependencies\n",
    "import json\n",
    "import requests\n",
    "\n",
    "# Specify the URL\n",
    "url = 'http://www.omdbapi.com/?t=SPIDER-MAN%3A+HOMECOMING&apikey=b090181b'\n",
    "\n",
    "# Make request and store response\n",
    "response = requests.get(url)"
   ]
  },
  {
   "cell_type": "code",
   "execution_count": 68,
   "metadata": {},
   "outputs": [],
   "source": [
    "# JSON-ify response\n",
    "response_json = response.json()"
   ]
  },
  {
   "cell_type": "code",
   "execution_count": 69,
   "metadata": {},
   "outputs": [
    {
     "name": "stdout",
     "output_type": "stream",
     "text": [
      "The first response is {\n",
      "    \"Title\": \"Spider-Man: Homecoming\",\n",
      "    \"Year\": \"2017\",\n",
      "    \"Rated\": \"PG-13\",\n",
      "    \"Released\": \"07 Jul 2017\",\n",
      "    \"Runtime\": \"133 min\",\n",
      "    \"Genre\": \"Action, Adventure, Sci-Fi\",\n",
      "    \"Director\": \"Jon Watts\",\n",
      "    \"Writer\": \"Jonathan Goldstein (screenplay by), John Francis Daley (screenplay by), Jon Watts (screenplay by), Christopher Ford (screenplay by), Chris McKenna (screenplay by), Erik Sommers (screenplay by), Jonathan Goldstein (screen story by), John Francis Daley (screen story by), Stan Lee (based on the Marvel comic book by), Steve Ditko (based on the Marvel comic book by), Joe Simon (Captain America created by), Jack Kirby (Captain America created by)\",\n",
      "    \"Actors\": \"Tom Holland, Michael Keaton, Robert Downey Jr., Marisa Tomei\",\n",
      "    \"Plot\": \"Peter Parker balances his life as an ordinary high school student in Queens with his superhero alter-ego Spider-Man, and finds himself on the trail of a new menace prowling the skies of New York City.\",\n",
      "    \"Language\": \"English, Spanish\",\n",
      "    \"Country\": \"USA\",\n",
      "    \"Awards\": \"7 wins & 10 nominations.\",\n",
      "    \"Poster\": \"https://m.media-amazon.com/images/M/MV5BNTk4ODQ1MzgzNl5BMl5BanBnXkFtZTgwMTMyMzM4MTI@._V1_SX300.jpg\",\n",
      "    \"Ratings\": [\n",
      "        {\n",
      "            \"Source\": \"Internet Movie Database\",\n",
      "            \"Value\": \"7.4/10\"\n",
      "        },\n",
      "        {\n",
      "            \"Source\": \"Rotten Tomatoes\",\n",
      "            \"Value\": \"92%\"\n",
      "        },\n",
      "        {\n",
      "            \"Source\": \"Metacritic\",\n",
      "            \"Value\": \"73/100\"\n",
      "        }\n",
      "    ],\n",
      "    \"Metascore\": \"73\",\n",
      "    \"imdbRating\": \"7.4\",\n",
      "    \"imdbVotes\": \"510,124\",\n",
      "    \"imdbID\": \"tt2250912\",\n",
      "    \"Type\": \"movie\",\n",
      "    \"DVD\": \"N/A\",\n",
      "    \"BoxOffice\": \"$334,201,140\",\n",
      "    \"Production\": \"Columbia Pictures, Marvel Studios\",\n",
      "    \"Website\": \"N/A\",\n",
      "    \"Response\": \"True\"\n",
      "}.\n"
     ]
    }
   ],
   "source": [
    "# Print first and last articles\n",
    "print(f\"The first response is {json.dumps(response_json, indent=4)}.\")"
   ]
  },
  {
   "cell_type": "code",
   "execution_count": null,
   "metadata": {},
   "outputs": [],
   "source": []
  },
  {
   "cell_type": "code",
   "execution_count": 71,
   "metadata": {},
   "outputs": [],
   "source": [
    "#Doctor Strange\n",
    "#Dependencies\n",
    "import json\n",
    "import requests\n",
    "\n",
    "# Specify the URL\n",
    "url = 'http://www.omdbapi.com/?t=DOCTOR+STRANGE&apikey=b090181b'\n",
    "\n",
    "# Make request and store response\n",
    "response = requests.get(url)"
   ]
  },
  {
   "cell_type": "code",
   "execution_count": 72,
   "metadata": {},
   "outputs": [],
   "source": [
    "# JSON-ify response\n",
    "response_json = response.json()"
   ]
  },
  {
   "cell_type": "code",
   "execution_count": 73,
   "metadata": {},
   "outputs": [
    {
     "name": "stdout",
     "output_type": "stream",
     "text": [
      "The first response is {\n",
      "    \"Title\": \"Doctor Strange\",\n",
      "    \"Year\": \"2016\",\n",
      "    \"Rated\": \"PG-13\",\n",
      "    \"Released\": \"04 Nov 2016\",\n",
      "    \"Runtime\": \"115 min\",\n",
      "    \"Genre\": \"Action, Adventure, Fantasy, Sci-Fi\",\n",
      "    \"Director\": \"Scott Derrickson\",\n",
      "    \"Writer\": \"Jon Spaihts, Scott Derrickson, C. Robert Cargill, Stan Lee (based on the Marvel comics by), Steve Ditko (based on the Marvel comics by)\",\n",
      "    \"Actors\": \"Benedict Cumberbatch, Chiwetel Ejiofor, Rachel McAdams, Benedict Wong\",\n",
      "    \"Plot\": \"While on a journey of physical and spiritual healing, a brilliant neurosurgeon is drawn into the world of the mystic arts.\",\n",
      "    \"Language\": \"English\",\n",
      "    \"Country\": \"USA\",\n",
      "    \"Awards\": \"Nominated for 1 Oscar. Another 20 wins & 66 nominations.\",\n",
      "    \"Poster\": \"https://m.media-amazon.com/images/M/MV5BNjgwNzAzNjk1Nl5BMl5BanBnXkFtZTgwMzQ2NjI1OTE@._V1_SX300.jpg\",\n",
      "    \"Ratings\": [\n",
      "        {\n",
      "            \"Source\": \"Internet Movie Database\",\n",
      "            \"Value\": \"7.5/10\"\n",
      "        },\n",
      "        {\n",
      "            \"Source\": \"Rotten Tomatoes\",\n",
      "            \"Value\": \"89%\"\n",
      "        },\n",
      "        {\n",
      "            \"Source\": \"Metacritic\",\n",
      "            \"Value\": \"72/100\"\n",
      "        }\n",
      "    ],\n",
      "    \"Metascore\": \"72\",\n",
      "    \"imdbRating\": \"7.5\",\n",
      "    \"imdbVotes\": \"595,219\",\n",
      "    \"imdbID\": \"tt1211837\",\n",
      "    \"Type\": \"movie\",\n",
      "    \"DVD\": \"N/A\",\n",
      "    \"BoxOffice\": \"$232,641,920\",\n",
      "    \"Production\": \"Marvel Studios, Marvel Entertainment\",\n",
      "    \"Website\": \"N/A\",\n",
      "    \"Response\": \"True\"\n",
      "}.\n"
     ]
    }
   ],
   "source": [
    "# Print first and last articles\n",
    "print(f\"The first response is {json.dumps(response_json, indent=4)}.\")"
   ]
  },
  {
   "cell_type": "code",
   "execution_count": null,
   "metadata": {},
   "outputs": [],
   "source": []
  },
  {
   "cell_type": "code",
   "execution_count": 76,
   "metadata": {},
   "outputs": [],
   "source": [
    "#Black Panther\n",
    "#Dependencies\n",
    "import json\n",
    "import requests\n",
    "\n",
    "# Specify the URL\n",
    "url = 'http://www.omdbapi.com/?t=BLACK+PANTHER+&apikey=b090181b'\n",
    "\n",
    "# Make request and store response\n",
    "response = requests.get(url)\n"
   ]
  },
  {
   "cell_type": "code",
   "execution_count": 77,
   "metadata": {},
   "outputs": [],
   "source": [
    "# JSON-ify response\n",
    "response_json = response.json()"
   ]
  },
  {
   "cell_type": "code",
   "execution_count": 78,
   "metadata": {},
   "outputs": [
    {
     "name": "stdout",
     "output_type": "stream",
     "text": [
      "The first response is {\n",
      "    \"Title\": \"Black Panther\",\n",
      "    \"Year\": \"2018\",\n",
      "    \"Rated\": \"PG-13\",\n",
      "    \"Released\": \"16 Feb 2018\",\n",
      "    \"Runtime\": \"134 min\",\n",
      "    \"Genre\": \"Action, Adventure, Sci-Fi\",\n",
      "    \"Director\": \"Ryan Coogler\",\n",
      "    \"Writer\": \"Ryan Coogler, Joe Robert Cole, Stan Lee (based on the Marvel comics by), Jack Kirby (based on the Marvel Comics by)\",\n",
      "    \"Actors\": \"Chadwick Boseman, Michael B. Jordan, Lupita Nyong'o, Danai Gurira\",\n",
      "    \"Plot\": \"T'Challa, heir to the hidden but advanced kingdom of Wakanda, must step forward to lead his people into a new future and must confront a challenger from his country's past.\",\n",
      "    \"Language\": \"English, Swahili, Nama, Xhosa, Korean\",\n",
      "    \"Country\": \"USA\",\n",
      "    \"Awards\": \"Won 3 Oscars. Another 110 wins & 263 nominations.\",\n",
      "    \"Poster\": \"https://m.media-amazon.com/images/M/MV5BMTg1MTY2MjYzNV5BMl5BanBnXkFtZTgwMTc4NTMwNDI@._V1_SX300.jpg\",\n",
      "    \"Ratings\": [\n",
      "        {\n",
      "            \"Source\": \"Internet Movie Database\",\n",
      "            \"Value\": \"7.3/10\"\n",
      "        },\n",
      "        {\n",
      "            \"Source\": \"Rotten Tomatoes\",\n",
      "            \"Value\": \"96%\"\n",
      "        },\n",
      "        {\n",
      "            \"Source\": \"Metacritic\",\n",
      "            \"Value\": \"88/100\"\n",
      "        }\n",
      "    ],\n",
      "    \"Metascore\": \"88\",\n",
      "    \"imdbRating\": \"7.3\",\n",
      "    \"imdbVotes\": \"622,582\",\n",
      "    \"imdbID\": \"tt1825683\",\n",
      "    \"Type\": \"movie\",\n",
      "    \"DVD\": \"02 May 2018\",\n",
      "    \"BoxOffice\": \"$700,426,566\",\n",
      "    \"Production\": \"Walt Disney Pictures\",\n",
      "    \"Website\": \"N/A\",\n",
      "    \"Response\": \"True\"\n",
      "}.\n"
     ]
    }
   ],
   "source": [
    "# Print first and last articles\n",
    "print(f\"The first response is {json.dumps(response_json, indent=4)}.\")"
   ]
  },
  {
   "cell_type": "code",
   "execution_count": null,
   "metadata": {},
   "outputs": [],
   "source": []
  },
  {
   "cell_type": "code",
   "execution_count": 82,
   "metadata": {},
   "outputs": [],
   "source": [
    "#Thor Ragnarok\n",
    "#Dependencies\n",
    "import json\n",
    "import requests\n",
    "\n",
    "# Specify the URL\n",
    "url = 'http://www.omdbapi.com/?t=THOR%3A+RAGNAROK&apikey=b090181b'\n",
    "\n",
    "# Make request and store response\n",
    "response = requests.get(url)\n"
   ]
  },
  {
   "cell_type": "code",
   "execution_count": 83,
   "metadata": {},
   "outputs": [],
   "source": [
    "# JSON-ify response\n",
    "response_json = response.json()"
   ]
  },
  {
   "cell_type": "code",
   "execution_count": 84,
   "metadata": {},
   "outputs": [
    {
     "name": "stdout",
     "output_type": "stream",
     "text": [
      "The first response is {\n",
      "    \"Title\": \"Thor: Ragnarok\",\n",
      "    \"Year\": \"2017\",\n",
      "    \"Rated\": \"PG-13\",\n",
      "    \"Released\": \"03 Nov 2017\",\n",
      "    \"Runtime\": \"130 min\",\n",
      "    \"Genre\": \"Action, Adventure, Comedy, Fantasy, Sci-Fi\",\n",
      "    \"Director\": \"Taika Waititi\",\n",
      "    \"Writer\": \"Eric Pearson, Craig Kyle, Christopher L. Yost, Stan Lee (based on the Marvel comics by), Larry Lieber (based on the Marvel comics by), Jack Kirby (based on the Marvel comics by)\",\n",
      "    \"Actors\": \"Chris Hemsworth, Tom Hiddleston, Cate Blanchett, Idris Elba\",\n",
      "    \"Plot\": \"Imprisoned on the planet Sakaar, Thor must race against time to return to Asgard and stop Ragnar\\u00f6k, the destruction of his world, at the hands of the powerful and ruthless villain Hela.\",\n",
      "    \"Language\": \"English\",\n",
      "    \"Country\": \"USA, Australia\",\n",
      "    \"Awards\": \"6 wins & 50 nominations.\",\n",
      "    \"Poster\": \"https://m.media-amazon.com/images/M/MV5BMjMyNDkzMzI1OF5BMl5BanBnXkFtZTgwODcxODg5MjI@._V1_SX300.jpg\",\n",
      "    \"Ratings\": [\n",
      "        {\n",
      "            \"Source\": \"Internet Movie Database\",\n",
      "            \"Value\": \"7.9/10\"\n",
      "        },\n",
      "        {\n",
      "            \"Source\": \"Rotten Tomatoes\",\n",
      "            \"Value\": \"93%\"\n",
      "        },\n",
      "        {\n",
      "            \"Source\": \"Metacritic\",\n",
      "            \"Value\": \"74/100\"\n",
      "        }\n",
      "    ],\n",
      "    \"Metascore\": \"74\",\n",
      "    \"imdbRating\": \"7.9\",\n",
      "    \"imdbVotes\": \"583,285\",\n",
      "    \"imdbID\": \"tt3501632\",\n",
      "    \"Type\": \"movie\",\n",
      "    \"DVD\": \"N/A\",\n",
      "    \"BoxOffice\": \"$315,058,289\",\n",
      "    \"Production\": \"Marvel Studios\",\n",
      "    \"Website\": \"N/A\",\n",
      "    \"Response\": \"True\"\n",
      "}.\n"
     ]
    }
   ],
   "source": [
    "# Print first and last articles\n",
    "print(f\"The first response is {json.dumps(response_json, indent=4)}.\")"
   ]
  },
  {
   "cell_type": "code",
   "execution_count": null,
   "metadata": {},
   "outputs": [],
   "source": []
  },
  {
   "cell_type": "code",
   "execution_count": 85,
   "metadata": {},
   "outputs": [],
   "source": [
    "#Avengers Infinity War\n",
    "#Dependencies\n",
    "import json\n",
    "import requests\n",
    "\n",
    "# Specify the URL\n",
    "url = 'http://www.omdbapi.com/?t=AVENGERS%3A+INFINITY+WAR&apikey=b090181b'\n",
    "\n",
    "# Make request and store response\n",
    "response = requests.get(url)\n"
   ]
  },
  {
   "cell_type": "code",
   "execution_count": 86,
   "metadata": {},
   "outputs": [],
   "source": [
    "# JSON-ify response\n",
    "response_json = response.json()"
   ]
  },
  {
   "cell_type": "code",
   "execution_count": 87,
   "metadata": {},
   "outputs": [
    {
     "name": "stdout",
     "output_type": "stream",
     "text": [
      "The first response is {\n",
      "    \"Title\": \"Avengers: Infinity War\",\n",
      "    \"Year\": \"2018\",\n",
      "    \"Rated\": \"PG-13\",\n",
      "    \"Released\": \"27 Apr 2018\",\n",
      "    \"Runtime\": \"149 min\",\n",
      "    \"Genre\": \"Action, Adventure, Sci-Fi\",\n",
      "    \"Director\": \"Anthony Russo, Joe Russo\",\n",
      "    \"Writer\": \"Christopher Markus (screenplay by), Stephen McFeely (screenplay by), Stan Lee (based on the Marvel comics by), Jack Kirby (based on the Marvel comics by), Joe Simon (Captain America created by), Jack Kirby (Captain America created by), Steve Englehart (Star-Lord created by), Steve Gan (Star-Lord created by), Bill Mantlo (Rocket Raccoon created by), Keith Giffen (Rocket Raccoon created by), Jim Starlin (Thanos,  Gamora and Drax created by), Stan Lee (Groot created by), Larry Lieber (Groot created by), Jack Kirby (Groot created by), Steve Englehart (Mantis created by), Don Heck (Mantis created by)\",\n",
      "    \"Actors\": \"Robert Downey Jr., Chris Hemsworth, Mark Ruffalo, Chris Evans\",\n",
      "    \"Plot\": \"The Avengers and their allies must be willing to sacrifice all in an attempt to defeat the powerful Thanos before his blitz of devastation and ruin puts an end to the universe.\",\n",
      "    \"Language\": \"English\",\n",
      "    \"Country\": \"USA\",\n",
      "    \"Awards\": \"Nominated for 1 Oscar. Another 46 wins & 75 nominations.\",\n",
      "    \"Poster\": \"https://m.media-amazon.com/images/M/MV5BMjMxNjY2MDU1OV5BMl5BanBnXkFtZTgwNzY1MTUwNTM@._V1_SX300.jpg\",\n",
      "    \"Ratings\": [\n",
      "        {\n",
      "            \"Source\": \"Internet Movie Database\",\n",
      "            \"Value\": \"8.4/10\"\n",
      "        },\n",
      "        {\n",
      "            \"Source\": \"Rotten Tomatoes\",\n",
      "            \"Value\": \"85%\"\n",
      "        },\n",
      "        {\n",
      "            \"Source\": \"Metacritic\",\n",
      "            \"Value\": \"68/100\"\n",
      "        }\n",
      "    ],\n",
      "    \"Metascore\": \"68\",\n",
      "    \"imdbRating\": \"8.4\",\n",
      "    \"imdbVotes\": \"828,791\",\n",
      "    \"imdbID\": \"tt4154756\",\n",
      "    \"Type\": \"movie\",\n",
      "    \"DVD\": \"N/A\",\n",
      "    \"BoxOffice\": \"$678,815,482\",\n",
      "    \"Production\": \"Marvel Studios\",\n",
      "    \"Website\": \"N/A\",\n",
      "    \"Response\": \"True\"\n",
      "}.\n"
     ]
    }
   ],
   "source": [
    "# Print first and last articles\n",
    "print(f\"The first response is {json.dumps(response_json, indent=4)}.\")"
   ]
  },
  {
   "cell_type": "code",
   "execution_count": null,
   "metadata": {},
   "outputs": [],
   "source": []
  },
  {
   "cell_type": "code",
   "execution_count": 91,
   "metadata": {},
   "outputs": [],
   "source": [
    "#Ant-man and the Wasp\n",
    "#Dependencies\n",
    "import json\n",
    "import requests\n",
    "\n",
    "# Specify the URL\n",
    "url = 'http://www.omdbapi.com/?t=ant-man+and+the+wasp+&apikey=b090181b'\n",
    "\n",
    "# Make request and store response\n",
    "response = requests.get(url)\n"
   ]
  },
  {
   "cell_type": "code",
   "execution_count": 92,
   "metadata": {},
   "outputs": [],
   "source": [
    "# JSON-ify response\n",
    "response_json = response.json()"
   ]
  },
  {
   "cell_type": "code",
   "execution_count": 93,
   "metadata": {},
   "outputs": [
    {
     "name": "stdout",
     "output_type": "stream",
     "text": [
      "The first response is {\n",
      "    \"Title\": \"Ant-Man and the Wasp\",\n",
      "    \"Year\": \"2018\",\n",
      "    \"Rated\": \"PG-13\",\n",
      "    \"Released\": \"06 Jul 2018\",\n",
      "    \"Runtime\": \"118 min\",\n",
      "    \"Genre\": \"Action, Adventure, Comedy, Sci-Fi\",\n",
      "    \"Director\": \"Peyton Reed\",\n",
      "    \"Writer\": \"Chris McKenna, Erik Sommers, Paul Rudd, Andrew Barrer, Gabriel Ferrari, Stan Lee (based on the Marvel Comics by), Larry Lieber (based on the Marvel Comics by), Jack Kirby (based on the Marvel Comics by)\",\n",
      "    \"Actors\": \"Paul Rudd, Evangeline Lilly, Michael Pe\\u00f1a, Walton Goggins\",\n",
      "    \"Plot\": \"As Scott Lang balances being both a superhero and a father, Hope van Dyne and Dr. Hank Pym present an urgent new mission that finds the Ant-Man fighting alongside The Wasp to uncover secrets from their past.\",\n",
      "    \"Language\": \"English, Spanish\",\n",
      "    \"Country\": \"USA\",\n",
      "    \"Awards\": \"19 nominations.\",\n",
      "    \"Poster\": \"https://m.media-amazon.com/images/M/MV5BYjcyYTk0N2YtMzc4ZC00Y2E0LWFkNDgtNjE1MzZmMGE1YjY1XkEyXkFqcGdeQXVyMTMxODk2OTU@._V1_SX300.jpg\",\n",
      "    \"Ratings\": [\n",
      "        {\n",
      "            \"Source\": \"Internet Movie Database\",\n",
      "            \"Value\": \"7.1/10\"\n",
      "        },\n",
      "        {\n",
      "            \"Source\": \"Rotten Tomatoes\",\n",
      "            \"Value\": \"87%\"\n",
      "        },\n",
      "        {\n",
      "            \"Source\": \"Metacritic\",\n",
      "            \"Value\": \"70/100\"\n",
      "        }\n",
      "    ],\n",
      "    \"Metascore\": \"70\",\n",
      "    \"imdbRating\": \"7.1\",\n",
      "    \"imdbVotes\": \"307,397\",\n",
      "    \"imdbID\": \"tt5095030\",\n",
      "    \"Type\": \"movie\",\n",
      "    \"DVD\": \"N/A\",\n",
      "    \"BoxOffice\": \"$216,648,740\",\n",
      "    \"Production\": \"Marvel Studios\",\n",
      "    \"Website\": \"N/A\",\n",
      "    \"Response\": \"True\"\n",
      "}.\n"
     ]
    }
   ],
   "source": [
    "# Print first and last articles\n",
    "print(f\"The first response is {json.dumps(response_json, indent=4)}.\")"
   ]
  },
  {
   "cell_type": "code",
   "execution_count": null,
   "metadata": {},
   "outputs": [],
   "source": []
  },
  {
   "cell_type": "code",
   "execution_count": 95,
   "metadata": {},
   "outputs": [],
   "source": [
    "#Avengers Endgame\n",
    "#Dependencies\n",
    "import json\n",
    "import requests\n",
    "\n",
    "# Specify the URL\n",
    "url = 'http://www.omdbapi.com/?t=avengers+endgame&apikey=b090181b'\n",
    "\n",
    "# Make request and store response\n",
    "response = requests.get(url)\n"
   ]
  },
  {
   "cell_type": "code",
   "execution_count": 96,
   "metadata": {},
   "outputs": [],
   "source": [
    "# JSON-ify response\n",
    "response_json = response.json()"
   ]
  },
  {
   "cell_type": "code",
   "execution_count": 97,
   "metadata": {},
   "outputs": [
    {
     "name": "stdout",
     "output_type": "stream",
     "text": [
      "The first response is {\n",
      "    \"Title\": \"Avengers: Endgame\",\n",
      "    \"Year\": \"2019\",\n",
      "    \"Rated\": \"PG-13\",\n",
      "    \"Released\": \"26 Apr 2019\",\n",
      "    \"Runtime\": \"181 min\",\n",
      "    \"Genre\": \"Action, Adventure, Drama, Sci-Fi\",\n",
      "    \"Director\": \"Anthony Russo, Joe Russo\",\n",
      "    \"Writer\": \"Christopher Markus (screenplay by), Stephen McFeely (screenplay by), Stan Lee (based on the Marvel comics by), Jack Kirby (based on the Marvel comics by), Joe Simon (Captain America created by), Jack Kirby (Captain America created by), Steve Englehart (Star-Lord created by), Steve Gan (Star-Lord created by), Bill Mantlo (Rocket Raccoon created by), Keith Giffen (Rocket Raccoon created by), Jim Starlin (Thanos,  Gamora & Drax created by), Stan Lee (Groot created by), Larry Lieber (Groot created by), Jack Kirby (Groot created by), Steve Englehart (Mantis created by), Don Heck (Mantis created by)\",\n",
      "    \"Actors\": \"Robert Downey Jr., Chris Evans, Mark Ruffalo, Chris Hemsworth\",\n",
      "    \"Plot\": \"After the devastating events of Avengers: Infinity War (2018), the universe is in ruins. With the help of remaining allies, the Avengers assemble once more in order to reverse Thanos' actions and restore balance to the universe.\",\n",
      "    \"Language\": \"English, Japanese, Xhosa, German\",\n",
      "    \"Country\": \"USA\",\n",
      "    \"Awards\": \"Nominated for 1 Oscar. Another 68 wins & 102 nominations.\",\n",
      "    \"Poster\": \"https://m.media-amazon.com/images/M/MV5BMTc5MDE2ODcwNV5BMl5BanBnXkFtZTgwMzI2NzQ2NzM@._V1_SX300.jpg\",\n",
      "    \"Ratings\": [\n",
      "        {\n",
      "            \"Source\": \"Internet Movie Database\",\n",
      "            \"Value\": \"8.4/10\"\n",
      "        },\n",
      "        {\n",
      "            \"Source\": \"Rotten Tomatoes\",\n",
      "            \"Value\": \"94%\"\n",
      "        },\n",
      "        {\n",
      "            \"Source\": \"Metacritic\",\n",
      "            \"Value\": \"78/100\"\n",
      "        }\n",
      "    ],\n",
      "    \"Metascore\": \"78\",\n",
      "    \"imdbRating\": \"8.4\",\n",
      "    \"imdbVotes\": \"799,754\",\n",
      "    \"imdbID\": \"tt4154796\",\n",
      "    \"Type\": \"movie\",\n",
      "    \"DVD\": \"N/A\",\n",
      "    \"BoxOffice\": \"$858,373,000\",\n",
      "    \"Production\": \"Marvel Studios, Walt Disney Pictures\",\n",
      "    \"Website\": \"N/A\",\n",
      "    \"Response\": \"True\"\n",
      "}.\n"
     ]
    }
   ],
   "source": [
    "# Print first and last articles\n",
    "print(f\"The first response is {json.dumps(response_json, indent=4)}.\")"
   ]
  },
  {
   "cell_type": "code",
   "execution_count": null,
   "metadata": {},
   "outputs": [],
   "source": []
  },
  {
   "cell_type": "code",
   "execution_count": 98,
   "metadata": {},
   "outputs": [],
   "source": [
    "#Spider-man: Far From Home \n",
    "##Dependencies\n",
    "import json\n",
    "import requests\n",
    "\n",
    "# Specify the URL\n",
    "url = 'http://www.omdbapi.com/?t=Spider-man+homecoming&apikey=b090181b'\n",
    "\n",
    "# Make request and store response\n",
    "response = requests.get(url)\n"
   ]
  },
  {
   "cell_type": "code",
   "execution_count": 99,
   "metadata": {},
   "outputs": [],
   "source": [
    "# JSON-ify response\n",
    "response_json = response.json()"
   ]
  },
  {
   "cell_type": "code",
   "execution_count": 100,
   "metadata": {},
   "outputs": [
    {
     "name": "stdout",
     "output_type": "stream",
     "text": [
      "The first response is {\n",
      "    \"Title\": \"Spider-Man: Homecoming\",\n",
      "    \"Year\": \"2017\",\n",
      "    \"Rated\": \"PG-13\",\n",
      "    \"Released\": \"07 Jul 2017\",\n",
      "    \"Runtime\": \"133 min\",\n",
      "    \"Genre\": \"Action, Adventure, Sci-Fi\",\n",
      "    \"Director\": \"Jon Watts\",\n",
      "    \"Writer\": \"Jonathan Goldstein (screenplay by), John Francis Daley (screenplay by), Jon Watts (screenplay by), Christopher Ford (screenplay by), Chris McKenna (screenplay by), Erik Sommers (screenplay by), Jonathan Goldstein (screen story by), John Francis Daley (screen story by), Stan Lee (based on the Marvel comic book by), Steve Ditko (based on the Marvel comic book by), Joe Simon (Captain America created by), Jack Kirby (Captain America created by)\",\n",
      "    \"Actors\": \"Tom Holland, Michael Keaton, Robert Downey Jr., Marisa Tomei\",\n",
      "    \"Plot\": \"Peter Parker balances his life as an ordinary high school student in Queens with his superhero alter-ego Spider-Man, and finds himself on the trail of a new menace prowling the skies of New York City.\",\n",
      "    \"Language\": \"English, Spanish\",\n",
      "    \"Country\": \"USA\",\n",
      "    \"Awards\": \"7 wins & 10 nominations.\",\n",
      "    \"Poster\": \"https://m.media-amazon.com/images/M/MV5BNTk4ODQ1MzgzNl5BMl5BanBnXkFtZTgwMTMyMzM4MTI@._V1_SX300.jpg\",\n",
      "    \"Ratings\": [\n",
      "        {\n",
      "            \"Source\": \"Internet Movie Database\",\n",
      "            \"Value\": \"7.4/10\"\n",
      "        },\n",
      "        {\n",
      "            \"Source\": \"Rotten Tomatoes\",\n",
      "            \"Value\": \"92%\"\n",
      "        },\n",
      "        {\n",
      "            \"Source\": \"Metacritic\",\n",
      "            \"Value\": \"73/100\"\n",
      "        }\n",
      "    ],\n",
      "    \"Metascore\": \"73\",\n",
      "    \"imdbRating\": \"7.4\",\n",
      "    \"imdbVotes\": \"510,124\",\n",
      "    \"imdbID\": \"tt2250912\",\n",
      "    \"Type\": \"movie\",\n",
      "    \"DVD\": \"N/A\",\n",
      "    \"BoxOffice\": \"$334,201,140\",\n",
      "    \"Production\": \"Columbia Pictures, Marvel Studios\",\n",
      "    \"Website\": \"N/A\",\n",
      "    \"Response\": \"True\"\n",
      "}.\n"
     ]
    }
   ],
   "source": [
    "# Print first and last articles\n",
    "print(f\"The first response is {json.dumps(response_json, indent=4)}.\")"
   ]
  },
  {
   "cell_type": "code",
   "execution_count": null,
   "metadata": {},
   "outputs": [],
   "source": []
  },
  {
   "cell_type": "code",
   "execution_count": null,
   "metadata": {},
   "outputs": [],
   "source": []
  },
  {
   "cell_type": "code",
   "execution_count": null,
   "metadata": {},
   "outputs": [],
   "source": []
  },
  {
   "cell_type": "code",
   "execution_count": null,
   "metadata": {},
   "outputs": [],
   "source": []
  }
 ],
 "metadata": {
  "kernelspec": {
   "display_name": "Python 3",
   "language": "python",
   "name": "python3"
  },
  "language_info": {
   "codemirror_mode": {
    "name": "ipython",
    "version": 3
   },
   "file_extension": ".py",
   "mimetype": "text/x-python",
   "name": "python",
   "nbconvert_exporter": "python",
   "pygments_lexer": "ipython3",
   "version": "3.8.5"
  }
 },
 "nbformat": 4,
 "nbformat_minor": 4
}
