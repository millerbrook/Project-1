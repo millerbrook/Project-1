{
 "cells": [
  {
   "cell_type": "code",
   "execution_count": 1,
   "metadata": {},
   "outputs": [],
   "source": [
    "#Import Dependencies\n",
    "import requests\n",
    "import pandas as pd\n",
    "from character_lists import char_names\n",
    "import csv\n",
    "import json\n",
    "import matplotlib as plt"
   ]
  },
  {
   "cell_type": "code",
   "execution_count": 2,
   "metadata": {},
   "outputs": [],
   "source": [
    "#Read in csv and character lists\n",
    "j = \"ccdc_df.csv\"\n",
    "comics = pd.read_csv(j)\n",
    "\n",
    "from character_lists import char_names, support_chars, minor_chars"
   ]
  },
  {
   "cell_type": "code",
   "execution_count": 3,
   "metadata": {},
   "outputs": [
    {
     "data": {
      "text/html": [
       "<div>\n",
       "<style scoped>\n",
       "    .dataframe tbody tr th:only-of-type {\n",
       "        vertical-align: middle;\n",
       "    }\n",
       "\n",
       "    .dataframe tbody tr th {\n",
       "        vertical-align: top;\n",
       "    }\n",
       "\n",
       "    .dataframe thead th {\n",
       "        text-align: right;\n",
       "    }\n",
       "</style>\n",
       "<table border=\"1\" class=\"dataframe\">\n",
       "  <thead>\n",
       "    <tr style=\"text-align: right;\">\n",
       "      <th></th>\n",
       "      <th>Unnamed: 0</th>\n",
       "      <th>ID</th>\n",
       "      <th>Title</th>\n",
       "      <th>Date</th>\n",
       "      <th>Creator</th>\n",
       "      <th>Character</th>\n",
       "    </tr>\n",
       "  </thead>\n",
       "  <tbody>\n",
       "    <tr>\n",
       "      <th>0</th>\n",
       "      <td>0</td>\n",
       "      <td>17486</td>\n",
       "      <td>X-Men: Phoenix - Warsong (2006)</td>\n",
       "      <td>2029</td>\n",
       "      <td>Vc Joe Caramagna</td>\n",
       "      <td>Beast</td>\n",
       "    </tr>\n",
       "    <tr>\n",
       "      <th>1</th>\n",
       "      <td>1</td>\n",
       "      <td>17486</td>\n",
       "      <td>X-Men: Phoenix - Warsong (2006)</td>\n",
       "      <td>2029</td>\n",
       "      <td>Vc Joe Caramagna</td>\n",
       "      <td>Colossus</td>\n",
       "    </tr>\n",
       "    <tr>\n",
       "      <th>2</th>\n",
       "      <td>2</td>\n",
       "      <td>17486</td>\n",
       "      <td>X-Men: Phoenix - Warsong (2006)</td>\n",
       "      <td>2029</td>\n",
       "      <td>Vc Joe Caramagna</td>\n",
       "      <td>Cyclops</td>\n",
       "    </tr>\n",
       "    <tr>\n",
       "      <th>3</th>\n",
       "      <td>3</td>\n",
       "      <td>17486</td>\n",
       "      <td>X-Men: Phoenix - Warsong (2006)</td>\n",
       "      <td>2029</td>\n",
       "      <td>Vc Joe Caramagna</td>\n",
       "      <td>Emma Frost</td>\n",
       "    </tr>\n",
       "    <tr>\n",
       "      <th>4</th>\n",
       "      <td>4</td>\n",
       "      <td>17486</td>\n",
       "      <td>X-Men: Phoenix - Warsong (2006)</td>\n",
       "      <td>2029</td>\n",
       "      <td>Vc Joe Caramagna</td>\n",
       "      <td>Kitty Pryde</td>\n",
       "    </tr>\n",
       "  </tbody>\n",
       "</table>\n",
       "</div>"
      ],
      "text/plain": [
       "   Unnamed: 0     ID                            Title  Date           Creator  \\\n",
       "0           0  17486  X-Men: Phoenix - Warsong (2006)  2029  Vc Joe Caramagna   \n",
       "1           1  17486  X-Men: Phoenix - Warsong (2006)  2029  Vc Joe Caramagna   \n",
       "2           2  17486  X-Men: Phoenix - Warsong (2006)  2029  Vc Joe Caramagna   \n",
       "3           3  17486  X-Men: Phoenix - Warsong (2006)  2029  Vc Joe Caramagna   \n",
       "4           4  17486  X-Men: Phoenix - Warsong (2006)  2029  Vc Joe Caramagna   \n",
       "\n",
       "     Character  \n",
       "0        Beast  \n",
       "1     Colossus  \n",
       "2      Cyclops  \n",
       "3   Emma Frost  \n",
       "4  Kitty Pryde  "
      ]
     },
     "execution_count": 3,
     "metadata": {},
     "output_type": "execute_result"
    }
   ],
   "source": [
    "#Check on imported info\n",
    "comics.head()"
   ]
  },
  {
   "cell_type": "code",
   "execution_count": 4,
   "metadata": {
    "scrolled": true
   },
   "outputs": [
    {
     "name": "stdout",
     "output_type": "stream",
     "text": [
      "['Spider-Man', 'Iron Man', 'Hulk', 'Captain America', 'Black Widow', 'Hawkeye', 'Captain Marvel', 'Star-Lord', 'Thor', 'Nick Fury', 'War Machine', 'Winter Soldier', 'Falcon', 'Wanda Maximoff', 'Vision', 'Ant-Man', 'Wasp', 'Black Panther', 'Dr. Strange', 'Gamora', 'Groot', 'Rocket', 'Drax', 'Nebula', 'Mantis', 'Loki', 'Thanos']\n",
      "['Peggy Carter', 'Phil Coulson', 'Jane Foster', 'Heimdall', 'Maria Hill', 'Happy Hogan', 'J.A.R.V.I.S', 'Pietro Maximoff', 'Odin', 'Okoye', 'Pepper Potts', 'Hank Pym', 'Thunderbolt Ross', 'Erik Selvig', 'Shuri', 'Howard Stark', 'Valkyrie', 'Janey van Dyne', 'Wong', 'Helmut Zemo', 'Laufey', 'Frigga', 'Fandral', 'Hogun', 'Volstagg', 'Destroyer', 'Crossbones', 'Red Skull', 'Arnim Zola', 'Jacques Dernier', 'Dum Dum Dugan', 'James Montgomery Falsworth', 'Gabe Jones', 'Jim Morita', 'Ulysses Klaue', 'Ultron', 'Yondu Udonta', 'Aunt May', 'Ned Leeds', 'Flash Thompson', 'MJ', 'Betty Brant', 'Roger Harrington', 'Mysterio', 'J. Jonah Jameson', 'Talos', 'Soren', 'Vulture', 'Hela', 'Erik Killmonger', 'Korg', 'Shocker', 'Phineas Mason', 'Mac Gargan', 'Aaron Davis', 'Ancient One', \"M'Baku\", 'Yon-Rogg', 'Supreme Intelligence', 'Ronan the Accuser', 'Korath', 'Bill Foster', 'Ghost', 'Jimmy Woo', 'Cassie Lang', 'Yellowjacket', 'Luis', 'Ego', 'Grandmaster', 'Collector', 'Skurge', 'Malekith', 'Kaecilius', 'Alexander Pierce', 'Agent 13', \"T'Chaka\", 'Jackson Norriss', 'The Mandarin', 'Nakia', 'Ramonda', 'Zuri', \"N'Jobu\", 'Ebony Maw', 'Corvus Glaive', 'Proxima Midnight', 'Cull Obsidian']\n",
      "['Abomination', 'Matthew Ellis', 'Rodriguez', 'Abraham Erskine', 'Christine Everhart', 'Justin HammerDarcy Lewis', 'List', 'Gideon Malick', 'Kraglin Obfonteri', 'The Other', 'Christine Palmer', 'Chester Phillips', 'Heinz Kruger', 'Raza', 'Betty Ross', 'Sif', 'Jasper Sitwell', 'Obadiah Stane', 'Stern', 'Samuel Sterns', 'Wolfgang von Strucker', 'Ho Yinsen', 'Anton Vanko', 'Whiplash', 'Aldrich KillianMaya Hansen', 'Trevor Slattery', 'Helen Cho', 'Eitri', 'Howard the Duck', 'Rhomann Dey', 'Nova Prime', 'Everett K. Ross', 'Karl Mordo', 'Jonathan Pangborn', 'Surtur', 'Maria Rambeau', 'Monica Rambeau', 'Mar-Vell', 'Dormammu', 'F.R.I.D.A.Y', 'Harley Keener', 'Jim Paxton', 'Dave', 'Kurt', 'Miek', 'Minn-Erva', 'Att-Lass', 'Bron-Char', \"W'Kabi\", 'Agnes', 'Tyler Hayward', 'Stakar Ogord', 'Martinex', 'Charlie-27', 'Aleta Ogord', 'Krugarr', 'Mainframe', 'Taserface', 'Ayesha', 'Sonny Burch', 'William Ginter Riva', 'Watcher Informant']\n"
     ]
    }
   ],
   "source": [
    "#Check on imported info\n",
    "print(char_names)\n",
    "print(support_chars)\n",
    "print(minor_chars)"
   ]
  },
  {
   "cell_type": "code",
   "execution_count": 5,
   "metadata": {
    "scrolled": true
   },
   "outputs": [
    {
     "name": "stdout",
     "output_type": "stream",
     "text": [
      "{'Spider-Man': 20663, 'Iron Man': 13858, 'Hulk': 8945, 'Captain America': 12845, 'Black Widow': 3170, 'Hawkeye': 3339, 'Captain Marvel': 0, 'Star-Lord': 0, 'Thor': 8682, 'Nick Fury': 2964, 'War Machine': 0, 'Winter Soldier': 1144, 'Falcon': 1201, 'Wanda Maximoff': 0, 'Vision': 2539, 'Ant-Man': 0, 'Wasp': 2011, 'Black Panther': 3961, 'Dr. Strange': 0, 'Gamora': 342, 'Groot': 210, 'Rocket': 0, 'Drax': 419, 'Nebula': 146, 'Mantis': 353, 'Loki': 2062, 'Thanos': 1450}\n"
     ]
    }
   ],
   "source": [
    "mcu_main_counts = {}\n",
    "for character in char_names:\n",
    "    i = 0\n",
    "    char_appear = comics.loc[comics['Character']==character]\n",
    "    count = len(char_appear)\n",
    "    mcu_main_counts[character] = count\n",
    "print(mcu_main_counts)"
   ]
  },
  {
   "cell_type": "code",
   "execution_count": 6,
   "metadata": {
    "scrolled": true
   },
   "outputs": [
    {
     "name": "stdout",
     "output_type": "stream",
     "text": [
      "{'Abomination': 0, 'Matthew Ellis': 0, 'Rodriguez': 0, 'Abraham Erskine': 0, 'Christine Everhart': 0, 'Justin HammerDarcy Lewis': 0, 'List': 0, 'Gideon Malick': 0, 'Kraglin Obfonteri': 0, 'The Other': 0, 'Christine Palmer': 0, 'Chester Phillips': 0, 'Heinz Kruger': 0, 'Raza': 189, 'Betty Ross': 401, 'Sif': 859, 'Jasper Sitwell': 137, 'Obadiah Stane': 21, 'Stern': 0, 'Samuel Sterns': 0, 'Wolfgang von Strucker': 0, 'Ho Yinsen': 0, 'Anton Vanko': 0, 'Whiplash': 0, 'Aldrich KillianMaya Hansen': 0, 'Trevor Slattery': 0, 'Helen Cho': 0, 'Eitri': 0, 'Howard the Duck': 0, 'Rhomann Dey': 0, 'Nova Prime': 0, 'Everett K. Ross': 0, 'Karl Mordo': 0, 'Jonathan Pangborn': 0, 'Surtur': 0, 'Maria Rambeau': 0, 'Monica Rambeau': 0, 'Mar-Vell': 0, 'Dormammu': 351, 'F.R.I.D.A.Y': 0, 'Harley Keener': 0, 'Jim Paxton': 0, 'Dave': 0, 'Kurt': 0, 'Miek': 17, 'Minn-Erva': 0, 'Att-Lass': 0, 'Bron-Char': 0, \"W'Kabi\": 0, 'Agnes': 0, 'Tyler Hayward': 0, 'Stakar Ogord': 0, 'Martinex': 0, 'Charlie-27': 0, 'Aleta Ogord': 0, 'Krugarr': 0, 'Mainframe': 0, 'Taserface': 0, 'Ayesha': 0, 'Sonny Burch': 0, 'William Ginter Riva': 0, 'Watcher Informant': 0}\n"
     ]
    }
   ],
   "source": [
    "mcu_minor_counts = {}\n",
    "for character in minor_chars:\n",
    "    i = 0\n",
    "    char_appear = comics.loc[comics['Character']==character]\n",
    "    count = len(char_appear)\n",
    "    mcu_minor_counts[character] = count\n",
    "print(mcu_minor_counts)"
   ]
  },
  {
   "cell_type": "code",
   "execution_count": 9,
   "metadata": {
    "scrolled": false
   },
   "outputs": [
    {
     "name": "stdout",
     "output_type": "stream",
     "text": [
      "{'Peggy Carter': 0, 'Phil Coulson': 0, 'Jane Foster': 383, 'Heimdall': 0, 'Maria Hill': 676, 'Happy Hogan': 104, 'J.A.R.V.I.S': 0, 'Pietro Maximoff': 0, 'Odin': 1052, 'Okoye': 24, 'Pepper Potts': 536, 'Hank Pym': 1641, 'Thunderbolt Ross': 105, 'Erik Selvig': 0, 'Shuri': 0, 'Howard Stark': 0, 'Valkyrie': 0, 'Janey van Dyne': 0, 'Wong': 661, 'Helmut Zemo': 0, 'Laufey': 0, 'Frigga': 0, 'Fandral': 0, 'Hogun': 0, 'Volstagg': 0, 'Destroyer': 0, 'Crossbones': 305, 'Red Skull': 931, 'Arnim Zola': 100, 'Jacques Dernier': 0, 'Dum Dum Dugan': 225, 'James Montgomery Falsworth': 0, 'Gabe Jones': 0, 'Jim Morita': 0, 'Ulysses Klaue': 0, 'Ultron': 628, 'Yondu Udonta': 0, 'Aunt May': 0, 'Ned Leeds': 0, 'Flash Thompson': 0, 'MJ': 0, 'Betty Brant': 182, 'Roger Harrington': 0, 'Mysterio': 593, 'J. Jonah Jameson': 1911, 'Talos': 5, 'Soren': 0, 'Vulture': 0, 'Hela': 0, 'Erik Killmonger': 0, 'Korg': 121, 'Shocker': 0, 'Phineas Mason': 0, 'Mac Gargan': 0, 'Aaron Davis': 0, 'Ancient One': 179, \"M'Baku\": 0, 'Yon-Rogg': 0, 'Supreme Intelligence': 91, 'Ronan the Accuser': 0, 'Korath': 37, 'Bill Foster': 0, 'Ghost': 0, 'Jimmy Woo': 96, 'Cassie Lang': 0, 'Yellowjacket': 0, 'Luis': 0, 'Ego': 115, 'Grandmaster': 81, 'Collector': 0, 'Skurge': 0, 'Malekith': 0, 'Kaecilius': 0, 'Alexander Pierce': 5, 'Agent 13': 0, \"T'Chaka\": 0, 'Jackson Norriss': 0, 'The Mandarin': 0, 'Nakia': 0, 'Ramonda': 0, 'Zuri': 0, \"N'Jobu\": 0, 'Ebony Maw': 0, 'Corvus Glaive': 0, 'Proxima Midnight': 0, 'Cull Obsidian': 0}\n"
     ]
    }
   ],
   "source": [
    "mcu_support_counts = {}\n",
    "for character in support_chars:\n",
    "    i = 0\n",
    "    char_appear = comics.loc[comics['Character']==character]\n",
    "    count = len(char_appear)\n",
    "    mcu_support_counts[character] = count\n",
    "print(mcu_support_counts)"
   ]
  },
  {
   "cell_type": "code",
   "execution_count": 12,
   "metadata": {},
   "outputs": [
    {
     "name": "stdout",
     "output_type": "stream",
     "text": [
      "{'Spider-Man': 1962, 'Iron Man': 1963, 'Hulk': 1962, 'Captain America': 1941, 'Black Widow': 1942, 'Hawkeye': 1964, 'Captain Marvel': nan, 'Star-Lord': nan, 'Thor': 1962, 'Nick Fury': 1963, 'War Machine': nan, 'Winter Soldier': 1941, 'Falcon': 1969, 'Wanda Maximoff': nan, 'Vision': 1940, 'Ant-Man': nan, 'Wasp': 1963, 'Black Panther': 1966, 'Dr. Strange': nan, 'Gamora': 1992, 'Groot': 1976, 'Rocket': nan, 'Drax': 1976, 'Nebula': 1985, 'Mantis': 1973, 'Loki': 1962, 'Thanos': 1973}\n"
     ]
    }
   ],
   "source": [
    "#Find earliest date of appearance of MCU characters in comics\n",
    "mcu_main_first = {}\n",
    "\n",
    "#strip out all the zero values for Dates, require Date to be post-1900\n",
    "dates_comics = comics.loc[comics['Date']>1900]\n",
    "\n",
    "for character in char_names:\n",
    "    first = dates_comics.loc[dates_comics['Character']==character]['Date'].min()\n",
    "    mcu_main_first[character] = first\n",
    "    \n",
    "print(mcu_main_first)"
   ]
  },
  {
   "cell_type": "code",
   "execution_count": 13,
   "metadata": {},
   "outputs": [
    {
     "name": "stdout",
     "output_type": "stream",
     "text": [
      "{'Peggy Carter': nan, 'Phil Coulson': nan, 'Jane Foster': 1965, 'Heimdall': nan, 'Maria Hill': 2005, 'Happy Hogan': 1970, 'J.A.R.V.I.S': nan, 'Pietro Maximoff': nan, 'Odin': 1965, 'Okoye': 2019, 'Pepper Potts': 1973, 'Hank Pym': 1962, 'Thunderbolt Ross': 1971, 'Erik Selvig': nan, 'Shuri': nan, 'Howard Stark': nan, 'Valkyrie': nan, 'Janey van Dyne': nan, 'Wong': 1974, 'Helmut Zemo': nan, 'Laufey': nan, 'Frigga': nan, 'Fandral': nan, 'Hogun': nan, 'Volstagg': nan, 'Destroyer': nan, 'Crossbones': 1989, 'Red Skull': 1941, 'Arnim Zola': 1977, 'Jacques Dernier': nan, 'Dum Dum Dugan': 1963, 'James Montgomery Falsworth': nan, 'Gabe Jones': nan, 'Jim Morita': nan, 'Ulysses Klaue': nan, 'Ultron': 1968, 'Yondu Udonta': nan, 'Aunt May': nan, 'Ned Leeds': nan, 'Flash Thompson': nan, 'MJ': nan, 'Betty Brant': 1982, 'Roger Harrington': nan, 'Mysterio': 1964, 'J. Jonah Jameson': 1964, 'Talos': 2006, 'Soren': nan, 'Vulture': nan, 'Hela': nan, 'Erik Killmonger': nan, 'Korg': 2006, 'Shocker': nan, 'Phineas Mason': nan, 'Mac Gargan': nan, 'Aaron Davis': nan, 'Ancient One': 1966, \"M'Baku\": nan, 'Yon-Rogg': nan, 'Supreme Intelligence': 1975, 'Ronan the Accuser': nan, 'Korath': 1992, 'Bill Foster': nan, 'Ghost': nan, 'Jimmy Woo': 2006, 'Cassie Lang': nan, 'Yellowjacket': nan, 'Luis': nan, 'Ego': 1987, 'Grandmaster': 1987, 'Collector': nan, 'Skurge': nan, 'Malekith': nan, 'Kaecilius': nan, 'Alexander Pierce': 2010, 'Agent 13': nan, \"T'Chaka\": nan, 'Jackson Norriss': nan, 'The Mandarin': nan, 'Nakia': nan, 'Ramonda': nan, 'Zuri': nan, \"N'Jobu\": nan, 'Ebony Maw': nan, 'Corvus Glaive': nan, 'Proxima Midnight': nan, 'Cull Obsidian': nan}\n"
     ]
    }
   ],
   "source": [
    "#Find earliest date of appearance of MCU support characters in comics\n",
    "mcu_support_first = {}\n",
    "\n",
    "#strip out all the zero values for Dates, require Date to be post-1900\n",
    "dates_comics = comics.loc[comics['Date']>1900]\n",
    "\n",
    "for character in support_chars:\n",
    "    first = dates_comics.loc[dates_comics['Character']==character]['Date'].min()\n",
    "    mcu_support_first[character] = first\n",
    "    \n",
    "print(mcu_support_first)"
   ]
  },
  {
   "cell_type": "code",
   "execution_count": 14,
   "metadata": {
    "scrolled": true
   },
   "outputs": [
    {
     "name": "stdout",
     "output_type": "stream",
     "text": [
      "{'Abomination': nan, 'Matthew Ellis': nan, 'Rodriguez': nan, 'Abraham Erskine': nan, 'Christine Everhart': nan, 'Justin HammerDarcy Lewis': nan, 'List': nan, 'Gideon Malick': nan, 'Kraglin Obfonteri': nan, 'The Other': nan, 'Christine Palmer': nan, 'Chester Phillips': nan, 'Heinz Kruger': nan, 'Raza': 1977, 'Betty Ross': 1974, 'Sif': 1967, 'Jasper Sitwell': 1966, 'Obadiah Stane': 1983, 'Stern': nan, 'Samuel Sterns': nan, 'Wolfgang von Strucker': nan, 'Ho Yinsen': nan, 'Anton Vanko': nan, 'Whiplash': nan, 'Aldrich KillianMaya Hansen': nan, 'Trevor Slattery': nan, 'Helen Cho': nan, 'Eitri': nan, 'Howard the Duck': nan, 'Rhomann Dey': nan, 'Nova Prime': nan, 'Everett K. Ross': nan, 'Karl Mordo': nan, 'Jonathan Pangborn': nan, 'Surtur': nan, 'Maria Rambeau': nan, 'Monica Rambeau': nan, 'Mar-Vell': nan, 'Dormammu': 1964, 'F.R.I.D.A.Y': nan, 'Harley Keener': nan, 'Jim Paxton': nan, 'Dave': nan, 'Kurt': nan, 'Miek': 2006, 'Minn-Erva': nan, 'Att-Lass': nan, 'Bron-Char': nan, \"W'Kabi\": nan, 'Agnes': nan, 'Tyler Hayward': nan, 'Stakar Ogord': nan, 'Martinex': nan, 'Charlie-27': nan, 'Aleta Ogord': nan, 'Krugarr': nan, 'Mainframe': nan, 'Taserface': nan, 'Ayesha': nan, 'Sonny Burch': nan, 'William Ginter Riva': nan, 'Watcher Informant': nan}\n"
     ]
    }
   ],
   "source": [
    "#Find earliest date of appearance of MCU support characters in comics\n",
    "mcu_minor_first = {}\n",
    "\n",
    "#strip out all the zero values for Dates, require Date to be post-1900\n",
    "dates_comics = comics.loc[comics['Date']>1900]\n",
    "\n",
    "for character in minor_chars:\n",
    "    first = dates_comics.loc[dates_comics['Character']==character]['Date'].min()\n",
    "    mcu_minor_first[character] = first\n",
    "    \n",
    "print(mcu_minor_first)"
   ]
  },
  {
   "cell_type": "code",
   "execution_count": 21,
   "metadata": {},
   "outputs": [
    {
     "name": "stdout",
     "output_type": "stream",
     "text": [
      "2011    1633\n",
      "2010    1296\n",
      "2019    1257\n",
      "2009    1150\n",
      "2018    1133\n",
      "        ... \n",
      "1965      25\n",
      "1963      15\n",
      "2015      15\n",
      "1964      13\n",
      "1962       4\n",
      "Name: Date, Length: 61, dtype: int64\n"
     ]
    }
   ],
   "source": [
    "#Collect all comics appearances of Spider-Man and visualize per year appearances\n",
    "spidey_dates = dates_comics.loc[dates_comics['Character']=='Spider-Man']['Date'].value_counts()\n",
    "print(spidey_dates)\n",
    "# iron_dates = dates_comics.loc[dates_comics['Character']=='Iron Man']['Date']\n",
    "# print(len(iron_dates))"
   ]
  },
  {
   "cell_type": "code",
   "execution_count": 42,
   "metadata": {},
   "outputs": [
    {
     "data": {
      "text/html": [
       "<div>\n",
       "<style scoped>\n",
       "    .dataframe tbody tr th:only-of-type {\n",
       "        vertical-align: middle;\n",
       "    }\n",
       "\n",
       "    .dataframe tbody tr th {\n",
       "        vertical-align: top;\n",
       "    }\n",
       "\n",
       "    .dataframe thead th {\n",
       "        text-align: right;\n",
       "    }\n",
       "</style>\n",
       "<table border=\"1\" class=\"dataframe\">\n",
       "  <thead>\n",
       "    <tr style=\"text-align: right;\">\n",
       "      <th></th>\n",
       "      <th></th>\n",
       "      <th>Unnamed: 0</th>\n",
       "      <th>ID</th>\n",
       "      <th>Title</th>\n",
       "      <th>Creator</th>\n",
       "    </tr>\n",
       "    <tr>\n",
       "      <th>Date</th>\n",
       "      <th>Character</th>\n",
       "      <th></th>\n",
       "      <th></th>\n",
       "      <th></th>\n",
       "      <th></th>\n",
       "    </tr>\n",
       "  </thead>\n",
       "  <tbody>\n",
       "    <tr>\n",
       "      <th rowspan=\"3\" valign=\"top\">1939</th>\n",
       "      <th>Archangel</th>\n",
       "      <td>10</td>\n",
       "      <td>10</td>\n",
       "      <td>10</td>\n",
       "      <td>10</td>\n",
       "    </tr>\n",
       "    <tr>\n",
       "      <th>Human Torch</th>\n",
       "      <td>10</td>\n",
       "      <td>10</td>\n",
       "      <td>10</td>\n",
       "      <td>10</td>\n",
       "    </tr>\n",
       "    <tr>\n",
       "      <th>Human Torch (Jim Hammond)</th>\n",
       "      <td>5</td>\n",
       "      <td>5</td>\n",
       "      <td>5</td>\n",
       "      <td>5</td>\n",
       "    </tr>\n",
       "  </tbody>\n",
       "</table>\n",
       "</div>"
      ],
      "text/plain": [
       "                                Unnamed: 0  ID  Title  Creator\n",
       "Date Character                                                \n",
       "1939 Archangel                          10  10     10       10\n",
       "     Human Torch                        10  10     10       10\n",
       "     Human Torch (Jim Hammond)           5   5      5        5"
      ]
     },
     "execution_count": 42,
     "metadata": {},
     "output_type": "execute_result"
    }
   ],
   "source": [
    "years_data = dates_comics.groupby(['Date', 'Character']).count().head(3)#.sort_values(by=['ID'], axis=1)\n",
    "years_data\n",
    "\n"
   ]
  }
 ],
 "metadata": {
  "kernelspec": {
   "display_name": "Python 3",
   "language": "python",
   "name": "python3"
  },
  "language_info": {
   "codemirror_mode": {
    "name": "ipython",
    "version": 3
   },
   "file_extension": ".py",
   "mimetype": "text/x-python",
   "name": "python",
   "nbconvert_exporter": "python",
   "pygments_lexer": "ipython3",
   "version": "3.6.10"
  }
 },
 "nbformat": 4,
 "nbformat_minor": 4
}
