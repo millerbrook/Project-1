{
 "cells": [
  {
   "cell_type": "code",
   "execution_count": null,
   "metadata": {},
   "outputs": [],
   "source": [
    "public_api_key = \"b6e7197e022e252cc5c94448a0e31cf3\"\n",
    "private_api_key = \"3c65be43996ad8afb4b65347b17cb45e49c8c5f5\""
   ]
  },
  {
   "cell_type": "markdown",
   "metadata": {},
   "source": [
    "citation = \"Data provided by Marvel. © 2014 Marvel\""
   ]
  }
 ],
 "metadata": {
  "kernelspec": {
   "display_name": "Python 3",
   "language": "python",
   "name": "python3"
  },
  "language_info": {
   "codemirror_mode": {
    "name": "ipython",
    "version": 3
   },
   "file_extension": ".py",
   "mimetype": "text/x-python",
   "name": "python",
   "nbconvert_exporter": "python",
   "pygments_lexer": "ipython3",
   "version": "3.6.10"
  }
 },
 "nbformat": 4,
 "nbformat_minor": 4
}
